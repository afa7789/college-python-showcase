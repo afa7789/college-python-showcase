{
 "cells": [
  {
   "cell_type": "code",
   "execution_count": 1,
   "metadata": {},
   "outputs": [],
   "source": []
  },
  {
   "cell_type": "code",
   "execution_count": null,
   "metadata": {},
   "outputs": [],
   "source": [
    "lista=[]\n",
    "lista1=['a']\n",
    "lista2=['aa','ab']\n",
    "lista3=['aaa','aab','aac']\n",
    "lista31=['aba','abb','abc']\n",
    "lista411=['aaaa','aaab','aaac','aaad']\n",
    "lista412=['aaba','aabb','aabc','aabd']\n",
    "lista413=['aaca','aacb','aacc','aacd']\n",
    "lista421=['abaa','abab','abac','abad']\n",
    "lista422=['abba','abbb','abbc','abbd']\n",
    "lista423=['abca','abcb','abcc','abcd']"
   ]
  },
  {
   "cell_type": "code",
   "execution_count": 2,
   "metadata": {},
   "outputs": [],
   "source": [
    "listaLista=[]\n",
    "listaLista.append(lista1)\n",
    "lista.append(listaLista)"
   ]
  },
  {
   "cell_type": "code",
   "execution_count": 3,
   "metadata": {},
   "outputs": [],
   "source": [
    "listaLista=[]\n",
    "listaLista.append(lista3)\n",
    "listaLista.append(lista31)\n",
    "lista.append(listaLista)"
   ]
  },
  {
   "cell_type": "code",
   "execution_count": 5,
   "metadata": {},
   "outputs": [],
   "source": [
    "listaLista=[]\n",
    "listaLista.append(lista411)\n",
    "listaLista.append(lista412)\n",
    "listaLista.append(lista413)\n",
    "listaLista.append(lista421)\n",
    "listaLista.append(lista422)\n",
    "listaLista.append(lista423)\n",
    "lista.append(listaLista)"
   ]
  },
  {
   "cell_type": "code",
   "execution_count": 6,
   "metadata": {},
   "outputs": [
    {
     "data": {
      "text/plain": [
       "[[['a']],\n",
       " [['aaa', 'aab', 'aac'], ['aba', 'abb', 'abc']],\n",
       " [['aaaa', 'aaab', 'aaac', 'aaad'],\n",
       "  ['aaba', 'aabb', 'aabc', 'aabd'],\n",
       "  ['aaca', 'aacb', 'aacc', 'aacd'],\n",
       "  ['abaa', 'abab', 'abac', 'abad'],\n",
       "  ['abba', 'abbb', 'abbc', 'abbd'],\n",
       "  ['abca', 'abcb', 'abcc', 'abcd']]]"
      ]
     },
     "execution_count": 6,
     "metadata": {},
     "output_type": "execute_result"
    }
   ],
   "source": [
    "lista"
   ]
  },
  {
   "cell_type": "code",
   "execution_count": null,
   "metadata": {},
   "outputs": [],
   "source": [
    "x=0 #profundida\n",
    "y=0 #nº da lista\n",
    "z=0 #nº do campo\n",
    "lista[3][y][z]"
   ]
  },
  {
   "cell_type": "code",
   "execution_count": null,
   "metadata": {},
   "outputs": [],
   "source": [
    "JV"
   ]
  },
  {
   "cell_type": "code",
   "execution_count": null,
   "metadata": {},
   "outputs": [],
   "source": [
    "JV.MostrarJogo()"
   ]
  },
  {
   "cell_type": "code",
   "execution_count": null,
   "metadata": {},
   "outputs": [],
   "source": [
    "verdade = False\n",
    "while verdade:\n",
    "    print (\"verdade\")\n",
    "print(\"oi\")"
   ]
  },
  {
   "cell_type": "code",
   "execution_count": 7,
   "metadata": {},
   "outputs": [],
   "source": [
    "a=1\n",
    "b=1\n",
    "c=1\n"
   ]
  },
  {
   "cell_type": "code",
   "execution_count": 10,
   "metadata": {},
   "outputs": [
    {
     "name": "stdout",
     "output_type": "stream",
     "text": [
      "deu bom\n"
     ]
    }
   ],
   "source": [
    "if (a or b or c) :\n",
    "    print(\"deu bom\")"
   ]
  },
  {
   "cell_type": "code",
   "execution_count": null,
   "metadata": {},
   "outputs": [],
   "source": []
  }
 ],
 "metadata": {
  "kernelspec": {
   "display_name": "Python 3",
   "language": "python",
   "name": "python3"
  },
  "language_info": {
   "codemirror_mode": {
    "name": "ipython",
    "version": 3
   },
   "file_extension": ".py",
   "mimetype": "text/x-python",
   "name": "python",
   "nbconvert_exporter": "python",
   "pygments_lexer": "ipython3",
   "version": "3.6.7"
  }
 },
 "nbformat": 4,
 "nbformat_minor": 2
}
