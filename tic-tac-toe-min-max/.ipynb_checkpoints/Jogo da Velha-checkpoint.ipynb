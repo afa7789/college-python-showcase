{
 "cells": [
  {
   "cell_type": "code",
   "execution_count": 1,
   "metadata": {},
   "outputs": [],
   "source": [
    "class CamposJogoDaVelha():\n",
    "    def __init__(self,x,y):\n",
    "        self.x = x\n",
    "        self.y = y\n",
    "        self.quemMarcou = 0\n",
    "\n",
    "    def marcou(self,Jogador):\n",
    "        if Jogador % 2 == 0:\n",
    "            self.quemMarcou=2\n",
    "        else:\n",
    "            self.quemMarcou=1\n",
    "    \n",
    "    def Copiar():\n",
    "        print(\"copiar\")\n",
    "    \n",
    "    def imprimirXY(self):\n",
    "        if self.quemMarcou ==1:\n",
    "            sinal='O'\n",
    "        elif self.quemMarcou==2:\n",
    "            sinal='X'\n",
    "        else:\n",
    "            sinal='-'\n",
    "        return str(self.x)+\" \"+str(self.y)+\" \"+sinal\n",
    "    def imprimir(self):\n",
    "        if self.quemMarcou ==1:\n",
    "            sinal='O'\n",
    "        elif self.quemMarcou==2:\n",
    "            sinal='X'\n",
    "        else:\n",
    "            sinal='|'\n",
    "        return sinal\n",
    "        "
   ]
  },
  {
   "cell_type": "code",
   "execution_count": 2,
   "metadata": {},
   "outputs": [],
   "source": [
    "class JogoDaVelha():\n",
    "    def __init__(self,Progenitor):\n",
    "        self.listaLinhas=[]\n",
    "        self.Iteração=0\n",
    "        self.Progenitor=Progenitor\n",
    "        self.CopiarCamposDoPai()\n",
    "        \n",
    "    def MostrarJogo(self):\n",
    "        for i in range(0,3):\n",
    "            for j in range(0,3):\n",
    "                print(self.listaLinhas[i][j].imprimir(),end='')\n",
    "            print(\"\\n\")\n",
    "            \n",
    "    def CopiarCamposDoPai(self):\n",
    "        if self.Progenitor == None:\n",
    "            for i in range(1,4):\n",
    "                listaCamposNaLinha=[]\n",
    "                for j in range(1,4):\n",
    "                    listaCamposNaLinha.append(CamposJogoDaVelha(i,j))\n",
    "                self.listaLinhas.append(listaCamposNaLinha)\n",
    "        else:\n",
    "            for i in range(0,3):\n",
    "                listaCamposNaLinha=[]\n",
    "                for j in range(0,3):          \n",
    "                    listaCamposNaLinha.append(self.Progenitor.listaLinhas[i][j])\n",
    "                self.listaLinhas.append(listaCamposNaLinha)\n",
    "            \n",
    "    def ContarEspaços(self):\n",
    "        contador = 0\n",
    "        listaCamposVazios = []\n",
    "        for i in range(0,3):\n",
    "            for j in range(0,3):\n",
    "                if self.listaLinhas[i][j].quemMarcou == 0:\n",
    "                    contador+=1\n",
    "                    listaCamposVazios.append((i,j))\n",
    "        return contador , listaCamposVazios\n",
    "        \n",
    "    def GerarFilhos(self):\n",
    "        tupla=self.ContarEspaços()\n",
    "        listaFilhos=[]\n",
    "        for w in range(0,tupla[0]):\n",
    "            novoJogo=JogoDaVelha(self)\n",
    "            novoJogo.Iteração=self.Iteração+1\n",
    "            i,j=tupla[1].pop()\n",
    "            novoJogo.listaLinhas[i][j].marcou(novoJogo.Iteração)\n",
    "            listaFilhos.append(novoJogo)\n",
    "        return listaFilhos\n",
    "            "
   ]
  },
  {
   "cell_type": "code",
   "execution_count": 3,
   "metadata": {},
   "outputs": [],
   "source": [
    "JV=JogoDaVelha(None)"
   ]
  },
  {
   "cell_type": "code",
   "execution_count": 4,
   "metadata": {},
   "outputs": [
    {
     "name": "stdout",
     "output_type": "stream",
     "text": [
      "|||\n",
      "\n",
      "|||\n",
      "\n",
      "|||\n",
      "\n"
     ]
    }
   ],
   "source": [
    "JV.MostrarJogo()"
   ]
  },
  {
   "cell_type": "code",
   "execution_count": 5,
   "metadata": {},
   "outputs": [
    {
     "name": "stdout",
     "output_type": "stream",
     "text": [
      "[(1, 3), (1, 2), (1, 1)]\n",
      "(1, 1)\n",
      "[(1, 3), (1, 2)]\n"
     ]
    }
   ],
   "source": [
    "listaVazia=[]\n",
    "i=1\n",
    "j=2\n",
    "listaVazia.append( (i,3) )\n",
    "listaVazia.append( (i,2) )\n",
    "listaVazia.append( (i,1) )\n",
    "print(listaVazia)\n",
    "p=listaVazia.pop()\n",
    "print(p)\n",
    "print(listaVazia)"
   ]
  },
  {
   "cell_type": "code",
   "execution_count": 6,
   "metadata": {},
   "outputs": [],
   "source": [
    "tupe=(1,listaVazia)"
   ]
  },
  {
   "cell_type": "code",
   "execution_count": 7,
   "metadata": {},
   "outputs": [
    {
     "data": {
      "text/plain": [
       "(1, [(1, 3), (1, 2)])"
      ]
     },
     "execution_count": 7,
     "metadata": {},
     "output_type": "execute_result"
    }
   ],
   "source": [
    "tupe"
   ]
  },
  {
   "cell_type": "code",
   "execution_count": 8,
   "metadata": {},
   "outputs": [
    {
     "name": "stdout",
     "output_type": "stream",
     "text": [
      "|||\n",
      "\n",
      "|||\n",
      "\n",
      "|||\n",
      "\n"
     ]
    }
   ],
   "source": [
    "JV.MostrarJogo()\n",
    "listafilhos=JV.GerarFilhos()"
   ]
  },
  {
   "cell_type": "code",
   "execution_count": 9,
   "metadata": {},
   "outputs": [
    {
     "name": "stdout",
     "output_type": "stream",
     "text": [
      "OOO\n",
      "\n",
      "OOO\n",
      "\n",
      "OOO\n",
      "\n"
     ]
    }
   ],
   "source": [
    "#listafilhos[0].MostrarJogo()\n",
    "JV.MostrarJogo()\n"
   ]
  },
  {
   "cell_type": "code",
   "execution_count": null,
   "metadata": {},
   "outputs": [],
   "source": []
  },
  {
   "cell_type": "code",
   "execution_count": null,
   "metadata": {},
   "outputs": [],
   "source": []
  }
 ],
 "metadata": {
  "kernelspec": {
   "display_name": "Python 3",
   "language": "python",
   "name": "python3"
  },
  "language_info": {
   "codemirror_mode": {
    "name": "ipython",
    "version": 3
   },
   "file_extension": ".py",
   "mimetype": "text/x-python",
   "name": "python",
   "nbconvert_exporter": "python",
   "pygments_lexer": "ipython3",
   "version": "3.7.1"
  }
 },
 "nbformat": 4,
 "nbformat_minor": 2
}
