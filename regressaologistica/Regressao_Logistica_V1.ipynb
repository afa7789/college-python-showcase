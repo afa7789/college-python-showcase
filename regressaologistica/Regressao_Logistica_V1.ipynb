{
 "cells": [
  {
   "cell_type": "markdown",
   "metadata": {
    "run_control": {
     "marked": true
    }
   },
   "source": [
    "#  Logistic Regression and Classification Error Metrics"
   ]
  },
  {
   "cell_type": "markdown",
   "metadata": {
    "run_control": {
     "marked": true
    }
   },
   "source": [
    "## Introduction\n",
    "\n",
    "We will be using the [Human Activity Recognition with Smartphones](https://archive.ics.uci.edu/ml/datasets/Human+Activity+Recognition+Using+Smartphones) database, which was built from the recordings of study participants performing activities of daily living (ADL) while carrying a smartphone with an embedded inertial sensors. The objective is to classify activities into one of the six activities (walking, walking upstairs, walking downstairs, sitting, standing, and laying) performed.\n",
    "\n",
    "For each record in the dataset it is provided: \n",
    "\n",
    "- Triaxial acceleration from the accelerometer (total acceleration) and the estimated body acceleration. \n",
    "- Triaxial Angular velocity from the gyroscope. \n",
    "- A 561-feature vector with time and frequency domain variables. \n",
    "- Its activity label. \n",
    "\n",
    "More information about the features is available on the website: above or at https://www.kaggle.com/uciml/human-activity-recognition-with-smartphones "
   ]
  },
  {
   "cell_type": "code",
   "execution_count": 1,
   "metadata": {
    "collapsed": true,
    "run_control": {
     "marked": true
    }
   },
   "outputs": [],
   "source": [
    "from __future__ import print_function\n",
    "import os\n",
    "#Data Path has to be set as per the file location in your system\n",
    "#data_path = ['..', 'data']\n",
    "# data_path = ['/home/seaquest/Arthur/regressaologistica/']\n",
    "# data_path"
   ]
  },
  {
   "cell_type": "markdown",
   "metadata": {
    "run_control": {
     "marked": true
    }
   },
   "source": [
    "## Question 1\n",
    "\n",
    "Import the data and do the following:\n",
    "\n",
    "* Examine the data types--there are many columns, so it might be wise to use value counts\n",
    "* Determine if the floating point values need to be scaled\n",
    "* Determine the breakdown of each activity\n",
    "* Encode the activity label as an integer"
   ]
  },
  {
   "cell_type": "code",
   "execution_count": 2,
   "metadata": {
    "collapsed": true,
    "run_control": {
     "marked": true
    }
   },
   "outputs": [],
   "source": [
    "import pandas as pd\n",
    "import numpy as np\n",
    "#The filepath is dependent on the data_path set in the previous cell \n",
    "# filepath = os.sep.join(/home/seaquest/Arthur/regressaologistica/Human_Activity_Recognition_Using_Smartphones_Data.csv')\n",
    "data = pd.read_csv('/home/seaquest/Arthur/regressaologistica/Human_Activity_Recognition_Using_Smartphones_Data.csv')\n",
    "data.head"
   ]
  },
  {
   "cell_type": "markdown",
   "metadata": {
    "run_control": {
     "marked": true
    }
   },
   "source": [
    "The data columns are all floats except for the activity label."
   ]
  },
  {
   "cell_type": "code",
   "execution_count": 4,
   "metadata": {
    "run_control": {
     "marked": true
    }
   },
   "outputs": [
    {
     "output_type": "execute_result",
     "data": {
      "text/plain": "float64    561\nobject       1\ndtype: int64"
     },
     "metadata": {},
     "execution_count": 4
    }
   ],
   "source": [
    "data.dtypes.value_counts()"
   ]
  },
  {
   "cell_type": "code",
   "execution_count": 5,
   "metadata": {
    "run_control": {
     "marked": true
    }
   },
   "outputs": [
    {
     "output_type": "execute_result",
     "data": {
      "text/plain": "angle(tBodyGyroJerkMean,gravityMean)    float64\nangle(X,gravityMean)                    float64\nangle(Y,gravityMean)                    float64\nangle(Z,gravityMean)                    float64\nActivity                                 object\ndtype: object"
     },
     "metadata": {},
     "execution_count": 5
    }
   ],
   "source": [
    "data.dtypes.tail()"
   ]
  },
  {
   "cell_type": "markdown",
   "metadata": {
    "run_control": {
     "marked": true
    }
   },
   "source": [
    "The data are all scaled from -1 (minimum) to 1.0 (maximum)."
   ]
  },
  {
   "cell_type": "code",
   "execution_count": 6,
   "metadata": {
    "run_control": {
     "marked": true
    }
   },
   "outputs": [
    {
     "output_type": "execute_result",
     "data": {
      "text/plain": "-1.0    561\ndtype: int64"
     },
     "metadata": {},
     "execution_count": 6
    }
   ],
   "source": [
    "data.iloc[:, :-1].min().value_counts()"
   ]
  },
  {
   "cell_type": "code",
   "execution_count": 7,
   "metadata": {
    "run_control": {
     "marked": true
    }
   },
   "outputs": [
    {
     "output_type": "execute_result",
     "data": {
      "text/plain": "1.0    561\ndtype: int64"
     },
     "metadata": {},
     "execution_count": 7
    }
   ],
   "source": [
    "data.iloc[:, :-1].max().value_counts()"
   ]
  },
  {
   "cell_type": "markdown",
   "metadata": {},
   "source": [
    "Examine the breakdown of activities--they are relatively balanced."
   ]
  },
  {
   "cell_type": "code",
   "execution_count": 8,
   "metadata": {},
   "outputs": [
    {
     "output_type": "execute_result",
     "data": {
      "text/plain": "LAYING                1944\nSTANDING              1906\nSITTING               1777\nWALKING               1722\nWALKING_UPSTAIRS      1544\nWALKING_DOWNSTAIRS    1406\nName: Activity, dtype: int64"
     },
     "metadata": {},
     "execution_count": 8
    }
   ],
   "source": [
    "data.Activity.value_counts()"
   ]
  },
  {
   "cell_type": "code",
   "execution_count": 9,
   "metadata": {},
   "outputs": [],
   "source": [
    "activitysave= data.Activity"
   ]
  },
  {
   "cell_type": "markdown",
   "metadata": {},
   "source": [
    "Scikit learn classifiers won't accept a sparse matrix for the prediction column. Thus, either `LabelEncoder` needs to be used to convert the activity labels to integers, or if `DictVectorizer` is used, the resulting matrix must be converted to a non-sparse array.  \n",
    "Use `LabelEncoder` to fit_transform the \"Activity\" column, and look at 5 random values."
   ]
  },
  {
   "cell_type": "code",
   "execution_count": 10,
   "metadata": {},
   "outputs": [
    {
     "output_type": "execute_result",
     "data": {
      "text/plain": "7202    1\n8142    1\n6283    2\n4480    3\n9204    2\nName: Activity, dtype: int64"
     },
     "metadata": {},
     "execution_count": 10
    }
   ],
   "source": [
    "from sklearn.preprocessing import LabelEncoder\n",
    "\n",
    "le = LabelEncoder()\n",
    "data['Activity'] = le.fit_transform(data.Activity)\n",
    "data['Activity'].sample(5)"
   ]
  },
  {
   "cell_type": "markdown",
   "metadata": {},
   "source": [
    "## Question 2\n",
    "\n",
    "* Calculate the correlations between the dependent variables.\n",
    "* Create a histogram of the correlation values\n",
    "* Identify those that are most correlated (either positively or negatively)."
   ]
  },
  {
   "cell_type": "code",
   "execution_count": 11,
   "metadata": {
    "collapsed": true,
    "tags": []
   },
   "outputs": [],
   "source": [
    "# Calculate the correlation values\n",
    "feature_cols = data.columns[:-1]\n",
    "corr_values = data[feature_cols].corr()\n",
    "\n",
    "# Simplify by emptying all the data below the diagonal\n",
    "tril_index = np.tril_indices_from(corr_values)\n",
    "\n",
    "# Make the unused values NaNs\n",
    "for coord in zip(*tril_index):\n",
    "    corr_values.iloc[coord[0], coord[1]] = np.NaN\n",
    "    \n",
    "# Stack the data and convert to a data frame\n",
    "corr_values = (corr_values.stack().to_frame().reset_index().rename(columns={'level_0':'feature1','level_1':'feature2',0:'correlation'}))\n",
    "\n",
    "# Get the absolute values for sorting\n",
    "corr_values['abs_correlation'] = corr_values.correlation.abs()"
   ]
  },
  {
   "cell_type": "code",
   "execution_count": 12,
   "metadata": {},
   "outputs": [
    {
     "output_type": "execute_result",
     "data": {
      "text/plain": "                                      tBodyAcc-mean()-X  tBodyAcc-mean()-Y  \\\ntBodyAcc-mean()-X                              1.000000           0.128037   \ntBodyAcc-mean()-Y                              0.128037           1.000000   \ntBodyAcc-mean()-Z                             -0.230302          -0.029882   \ntBodyAcc-std()-X                               0.004590          -0.046352   \ntBodyAcc-std()-Y                              -0.016785          -0.046996   \n...                                                 ...                ...   \nangle(tBodyGyroMean,gravityMean)               0.036047           0.013241   \nangle(tBodyGyroJerkMean,gravityMean)           0.034296           0.077627   \nangle(X,gravityMean)                          -0.041021          -0.007513   \nangle(Y,gravityMean)                           0.034053          -0.005616   \nangle(Z,gravityMean)                           0.030656          -0.016233   \n\n                                      tBodyAcc-mean()-Z  tBodyAcc-std()-X  \\\ntBodyAcc-mean()-X                             -0.230302          0.004590   \ntBodyAcc-mean()-Y                             -0.029882         -0.046352   \ntBodyAcc-mean()-Z                              1.000000         -0.024185   \ntBodyAcc-std()-X                              -0.024185          1.000000   \ntBodyAcc-std()-Y                              -0.023745          0.922525   \n...                                                 ...               ...   \nangle(tBodyGyroMean,gravityMean)              -0.066233          0.027464   \nangle(tBodyGyroJerkMean,gravityMean)          -0.030748         -0.027123   \nangle(X,gravityMean)                           0.003215         -0.374104   \nangle(Y,gravityMean)                          -0.012986          0.449425   \nangle(Z,gravityMean)                          -0.028406          0.393063   \n\n                                      tBodyAcc-std()-Y  tBodyAcc-std()-Z  \\\ntBodyAcc-mean()-X                            -0.016785         -0.036071   \ntBodyAcc-mean()-Y                            -0.046996         -0.054153   \ntBodyAcc-mean()-Z                            -0.023745         -0.015632   \ntBodyAcc-std()-X                              0.922525          0.861910   \ntBodyAcc-std()-Y                              1.000000          0.888259   \n...                                                ...               ...   \nangle(tBodyGyroMean,gravityMean)              0.001902         -0.004984   \nangle(tBodyGyroJerkMean,gravityMean)         -0.015784         -0.012196   \nangle(X,gravityMean)                         -0.381391         -0.353271   \nangle(Y,gravityMean)                          0.506106          0.459092   \nangle(Z,gravityMean)                          0.425511          0.483424   \n\n                                      tBodyAcc-mad()-X  tBodyAcc-mad()-Y  \\\ntBodyAcc-mean()-X                             0.010303         -0.017488   \ntBodyAcc-mean()-Y                            -0.045247         -0.047673   \ntBodyAcc-mean()-Z                            -0.022872         -0.022966   \ntBodyAcc-std()-X                              0.998662          0.916087   \ntBodyAcc-std()-Y                              0.918561          0.997510   \n...                                                ...               ...   \nangle(tBodyGyroMean,gravityMean)              0.027729         -0.002924   \nangle(tBodyGyroJerkMean,gravityMean)         -0.027097         -0.013411   \nangle(X,gravityMean)                         -0.371168         -0.378013   \nangle(Y,gravityMean)                          0.444926          0.507947   \nangle(Z,gravityMean)                          0.389481          0.424479   \n\n                                      tBodyAcc-mad()-Z  tBodyAcc-max()-X  ...  \\\ntBodyAcc-mean()-X                            -0.038805          0.046943  ...   \ntBodyAcc-mean()-Y                            -0.055524         -0.039445  ...   \ntBodyAcc-mean()-Z                            -0.009577         -0.040218  ...   \ntBodyAcc-std()-X                              0.856497          0.981226  ...   \ntBodyAcc-std()-Y                              0.887052          0.911137  ...   \n...                                                ...               ...  ...   \nangle(tBodyGyroMean,gravityMean)             -0.009873          0.033533  ...   \nangle(tBodyGyroJerkMean,gravityMean)         -0.012800         -0.030908  ...   \nangle(X,gravityMean)                         -0.355836         -0.384244  ...   \nangle(Y,gravityMean)                          0.460345          0.458832  ...   \nangle(Z,gravityMean)                          0.480032          0.402873  ...   \n\n                                      fBodyBodyGyroJerkMag-meanFreq()  \\\ntBodyAcc-mean()-X                                            0.029901   \ntBodyAcc-mean()-Y                                           -0.014402   \ntBodyAcc-mean()-Z                                           -0.015358   \ntBodyAcc-std()-X                                            -0.068807   \ntBodyAcc-std()-Y                                            -0.109941   \n...                                                               ...   \nangle(tBodyGyroMean,gravityMean)                            -0.029273   \nangle(tBodyGyroJerkMean,gravityMean)                        -0.002618   \nangle(X,gravityMean)                                         0.087571   \nangle(Y,gravityMean)                                        -0.105752   \nangle(Z,gravityMean)                                        -0.061105   \n\n                                      fBodyBodyGyroJerkMag-skewness()  \\\ntBodyAcc-mean()-X                                           -0.006179   \ntBodyAcc-mean()-Y                                           -0.000649   \ntBodyAcc-mean()-Z                                            0.023050   \ntBodyAcc-std()-X                                             0.165552   \ntBodyAcc-std()-Y                                             0.220279   \n...                                                               ...   \nangle(tBodyGyroMean,gravityMean)                             0.042123   \nangle(tBodyGyroJerkMean,gravityMean)                        -0.013065   \nangle(X,gravityMean)                                        -0.085226   \nangle(Y,gravityMean)                                         0.087671   \nangle(Z,gravityMean)                                         0.058759   \n\n                                      fBodyBodyGyroJerkMag-kurtosis()  \\\ntBodyAcc-mean()-X                                           -0.002255   \ntBodyAcc-mean()-Y                                           -0.002842   \ntBodyAcc-mean()-Z                                            0.023122   \ntBodyAcc-std()-X                                             0.135171   \ntBodyAcc-std()-Y                                             0.191164   \n...                                                               ...   \nangle(tBodyGyroMean,gravityMean)                             0.035684   \nangle(tBodyGyroJerkMean,gravityMean)                        -0.011829   \nangle(X,gravityMean)                                        -0.081971   \nangle(Y,gravityMean)                                         0.078010   \nangle(Z,gravityMean)                                         0.054008   \n\n                                      angle(tBodyAccMean,gravity)  \\\ntBodyAcc-mean()-X                                       -0.552989   \ntBodyAcc-mean()-Y                                        0.077750   \ntBodyAcc-mean()-Z                                        0.055020   \ntBodyAcc-std()-X                                        -0.034334   \ntBodyAcc-std()-Y                                        -0.020806   \n...                                                           ...   \nangle(tBodyGyroMean,gravityMean)                        -0.013009   \nangle(tBodyGyroJerkMean,gravityMean)                    -0.027478   \nangle(X,gravityMean)                                     0.008050   \nangle(Y,gravityMean)                                     0.003082   \nangle(Z,gravityMean)                                    -0.003242   \n\n                                      angle(tBodyAccJerkMean),gravityMean)  \\\ntBodyAcc-mean()-X                                                 0.015754   \ntBodyAcc-mean()-Y                                                -0.027567   \ntBodyAcc-mean()-Z                                                -0.042083   \ntBodyAcc-std()-X                                                 -0.017096   \ntBodyAcc-std()-Y                                                 -0.006605   \n...                                                                    ...   \nangle(tBodyGyroMean,gravityMean)                                  0.010679   \nangle(tBodyGyroJerkMean,gravityMean)                              0.023605   \nangle(X,gravityMean)                                              0.017534   \nangle(Y,gravityMean)                                             -0.007256   \nangle(Z,gravityMean)                                             -0.013130   \n\n                                      angle(tBodyGyroMean,gravityMean)  \\\ntBodyAcc-mean()-X                                             0.036047   \ntBodyAcc-mean()-Y                                             0.013241   \ntBodyAcc-mean()-Z                                            -0.066233   \ntBodyAcc-std()-X                                              0.027464   \ntBodyAcc-std()-Y                                              0.001902   \n...                                                                ...   \nangle(tBodyGyroMean,gravityMean)                              1.000000   \nangle(tBodyGyroJerkMean,gravityMean)                         -0.112454   \nangle(X,gravityMean)                                         -0.007095   \nangle(Y,gravityMean)                                         -0.006444   \nangle(Z,gravityMean)                                         -0.015380   \n\n                                      angle(tBodyGyroJerkMean,gravityMean)  \\\ntBodyAcc-mean()-X                                                 0.034296   \ntBodyAcc-mean()-Y                                                 0.077627   \ntBodyAcc-mean()-Z                                                -0.030748   \ntBodyAcc-std()-X                                                 -0.027123   \ntBodyAcc-std()-Y                                                 -0.015784   \n...                                                                    ...   \nangle(tBodyGyroMean,gravityMean)                                 -0.112454   \nangle(tBodyGyroJerkMean,gravityMean)                              1.000000   \nangle(X,gravityMean)                                              0.024822   \nangle(Y,gravityMean)                                             -0.004582   \nangle(Z,gravityMean)                                             -0.012549   \n\n                                      angle(X,gravityMean)  \\\ntBodyAcc-mean()-X                                -0.041021   \ntBodyAcc-mean()-Y                                -0.007513   \ntBodyAcc-mean()-Z                                 0.003215   \ntBodyAcc-std()-X                                 -0.374104   \ntBodyAcc-std()-Y                                 -0.381391   \n...                                                    ...   \nangle(tBodyGyroMean,gravityMean)                 -0.007095   \nangle(tBodyGyroJerkMean,gravityMean)              0.024822   \nangle(X,gravityMean)                              1.000000   \nangle(Y,gravityMean)                             -0.748249   \nangle(Z,gravityMean)                             -0.635231   \n\n                                      angle(Y,gravityMean)  \\\ntBodyAcc-mean()-X                                 0.034053   \ntBodyAcc-mean()-Y                                -0.005616   \ntBodyAcc-mean()-Z                                -0.012986   \ntBodyAcc-std()-X                                  0.449425   \ntBodyAcc-std()-Y                                  0.506106   \n...                                                    ...   \nangle(tBodyGyroMean,gravityMean)                 -0.006444   \nangle(tBodyGyroJerkMean,gravityMean)             -0.004582   \nangle(X,gravityMean)                             -0.748249   \nangle(Y,gravityMean)                              1.000000   \nangle(Z,gravityMean)                              0.545614   \n\n                                      angle(Z,gravityMean)  \ntBodyAcc-mean()-X                                 0.030656  \ntBodyAcc-mean()-Y                                -0.016233  \ntBodyAcc-mean()-Z                                -0.028406  \ntBodyAcc-std()-X                                  0.393063  \ntBodyAcc-std()-Y                                  0.425511  \n...                                                    ...  \nangle(tBodyGyroMean,gravityMean)                 -0.015380  \nangle(tBodyGyroJerkMean,gravityMean)             -0.012549  \nangle(X,gravityMean)                             -0.635231  \nangle(Y,gravityMean)                              0.545614  \nangle(Z,gravityMean)                              1.000000  \n\n[561 rows x 561 columns]",
      "text/html": "<div>\n<style scoped>\n    .dataframe tbody tr th:only-of-type {\n        vertical-align: middle;\n    }\n\n    .dataframe tbody tr th {\n        vertical-align: top;\n    }\n\n    .dataframe thead th {\n        text-align: right;\n    }\n</style>\n<table border=\"1\" class=\"dataframe\">\n  <thead>\n    <tr style=\"text-align: right;\">\n      <th></th>\n      <th>tBodyAcc-mean()-X</th>\n      <th>tBodyAcc-mean()-Y</th>\n      <th>tBodyAcc-mean()-Z</th>\n      <th>tBodyAcc-std()-X</th>\n      <th>tBodyAcc-std()-Y</th>\n      <th>tBodyAcc-std()-Z</th>\n      <th>tBodyAcc-mad()-X</th>\n      <th>tBodyAcc-mad()-Y</th>\n      <th>tBodyAcc-mad()-Z</th>\n      <th>tBodyAcc-max()-X</th>\n      <th>...</th>\n      <th>fBodyBodyGyroJerkMag-meanFreq()</th>\n      <th>fBodyBodyGyroJerkMag-skewness()</th>\n      <th>fBodyBodyGyroJerkMag-kurtosis()</th>\n      <th>angle(tBodyAccMean,gravity)</th>\n      <th>angle(tBodyAccJerkMean),gravityMean)</th>\n      <th>angle(tBodyGyroMean,gravityMean)</th>\n      <th>angle(tBodyGyroJerkMean,gravityMean)</th>\n      <th>angle(X,gravityMean)</th>\n      <th>angle(Y,gravityMean)</th>\n      <th>angle(Z,gravityMean)</th>\n    </tr>\n  </thead>\n  <tbody>\n    <tr>\n      <th>tBodyAcc-mean()-X</th>\n      <td>1.000000</td>\n      <td>0.128037</td>\n      <td>-0.230302</td>\n      <td>0.004590</td>\n      <td>-0.016785</td>\n      <td>-0.036071</td>\n      <td>0.010303</td>\n      <td>-0.017488</td>\n      <td>-0.038805</td>\n      <td>0.046943</td>\n      <td>...</td>\n      <td>0.029901</td>\n      <td>-0.006179</td>\n      <td>-0.002255</td>\n      <td>-0.552989</td>\n      <td>0.015754</td>\n      <td>0.036047</td>\n      <td>0.034296</td>\n      <td>-0.041021</td>\n      <td>0.034053</td>\n      <td>0.030656</td>\n    </tr>\n    <tr>\n      <th>tBodyAcc-mean()-Y</th>\n      <td>0.128037</td>\n      <td>1.000000</td>\n      <td>-0.029882</td>\n      <td>-0.046352</td>\n      <td>-0.046996</td>\n      <td>-0.054153</td>\n      <td>-0.045247</td>\n      <td>-0.047673</td>\n      <td>-0.055524</td>\n      <td>-0.039445</td>\n      <td>...</td>\n      <td>-0.014402</td>\n      <td>-0.000649</td>\n      <td>-0.002842</td>\n      <td>0.077750</td>\n      <td>-0.027567</td>\n      <td>0.013241</td>\n      <td>0.077627</td>\n      <td>-0.007513</td>\n      <td>-0.005616</td>\n      <td>-0.016233</td>\n    </tr>\n    <tr>\n      <th>tBodyAcc-mean()-Z</th>\n      <td>-0.230302</td>\n      <td>-0.029882</td>\n      <td>1.000000</td>\n      <td>-0.024185</td>\n      <td>-0.023745</td>\n      <td>-0.015632</td>\n      <td>-0.022872</td>\n      <td>-0.022966</td>\n      <td>-0.009577</td>\n      <td>-0.040218</td>\n      <td>...</td>\n      <td>-0.015358</td>\n      <td>0.023050</td>\n      <td>0.023122</td>\n      <td>0.055020</td>\n      <td>-0.042083</td>\n      <td>-0.066233</td>\n      <td>-0.030748</td>\n      <td>0.003215</td>\n      <td>-0.012986</td>\n      <td>-0.028406</td>\n    </tr>\n    <tr>\n      <th>tBodyAcc-std()-X</th>\n      <td>0.004590</td>\n      <td>-0.046352</td>\n      <td>-0.024185</td>\n      <td>1.000000</td>\n      <td>0.922525</td>\n      <td>0.861910</td>\n      <td>0.998662</td>\n      <td>0.916087</td>\n      <td>0.856497</td>\n      <td>0.981226</td>\n      <td>...</td>\n      <td>-0.068807</td>\n      <td>0.165552</td>\n      <td>0.135171</td>\n      <td>-0.034334</td>\n      <td>-0.017096</td>\n      <td>0.027464</td>\n      <td>-0.027123</td>\n      <td>-0.374104</td>\n      <td>0.449425</td>\n      <td>0.393063</td>\n    </tr>\n    <tr>\n      <th>tBodyAcc-std()-Y</th>\n      <td>-0.016785</td>\n      <td>-0.046996</td>\n      <td>-0.023745</td>\n      <td>0.922525</td>\n      <td>1.000000</td>\n      <td>0.888259</td>\n      <td>0.918561</td>\n      <td>0.997510</td>\n      <td>0.887052</td>\n      <td>0.911137</td>\n      <td>...</td>\n      <td>-0.109941</td>\n      <td>0.220279</td>\n      <td>0.191164</td>\n      <td>-0.020806</td>\n      <td>-0.006605</td>\n      <td>0.001902</td>\n      <td>-0.015784</td>\n      <td>-0.381391</td>\n      <td>0.506106</td>\n      <td>0.425511</td>\n    </tr>\n    <tr>\n      <th>...</th>\n      <td>...</td>\n      <td>...</td>\n      <td>...</td>\n      <td>...</td>\n      <td>...</td>\n      <td>...</td>\n      <td>...</td>\n      <td>...</td>\n      <td>...</td>\n      <td>...</td>\n      <td>...</td>\n      <td>...</td>\n      <td>...</td>\n      <td>...</td>\n      <td>...</td>\n      <td>...</td>\n      <td>...</td>\n      <td>...</td>\n      <td>...</td>\n      <td>...</td>\n      <td>...</td>\n    </tr>\n    <tr>\n      <th>angle(tBodyGyroMean,gravityMean)</th>\n      <td>0.036047</td>\n      <td>0.013241</td>\n      <td>-0.066233</td>\n      <td>0.027464</td>\n      <td>0.001902</td>\n      <td>-0.004984</td>\n      <td>0.027729</td>\n      <td>-0.002924</td>\n      <td>-0.009873</td>\n      <td>0.033533</td>\n      <td>...</td>\n      <td>-0.029273</td>\n      <td>0.042123</td>\n      <td>0.035684</td>\n      <td>-0.013009</td>\n      <td>0.010679</td>\n      <td>1.000000</td>\n      <td>-0.112454</td>\n      <td>-0.007095</td>\n      <td>-0.006444</td>\n      <td>-0.015380</td>\n    </tr>\n    <tr>\n      <th>angle(tBodyGyroJerkMean,gravityMean)</th>\n      <td>0.034296</td>\n      <td>0.077627</td>\n      <td>-0.030748</td>\n      <td>-0.027123</td>\n      <td>-0.015784</td>\n      <td>-0.012196</td>\n      <td>-0.027097</td>\n      <td>-0.013411</td>\n      <td>-0.012800</td>\n      <td>-0.030908</td>\n      <td>...</td>\n      <td>-0.002618</td>\n      <td>-0.013065</td>\n      <td>-0.011829</td>\n      <td>-0.027478</td>\n      <td>0.023605</td>\n      <td>-0.112454</td>\n      <td>1.000000</td>\n      <td>0.024822</td>\n      <td>-0.004582</td>\n      <td>-0.012549</td>\n    </tr>\n    <tr>\n      <th>angle(X,gravityMean)</th>\n      <td>-0.041021</td>\n      <td>-0.007513</td>\n      <td>0.003215</td>\n      <td>-0.374104</td>\n      <td>-0.381391</td>\n      <td>-0.353271</td>\n      <td>-0.371168</td>\n      <td>-0.378013</td>\n      <td>-0.355836</td>\n      <td>-0.384244</td>\n      <td>...</td>\n      <td>0.087571</td>\n      <td>-0.085226</td>\n      <td>-0.081971</td>\n      <td>0.008050</td>\n      <td>0.017534</td>\n      <td>-0.007095</td>\n      <td>0.024822</td>\n      <td>1.000000</td>\n      <td>-0.748249</td>\n      <td>-0.635231</td>\n    </tr>\n    <tr>\n      <th>angle(Y,gravityMean)</th>\n      <td>0.034053</td>\n      <td>-0.005616</td>\n      <td>-0.012986</td>\n      <td>0.449425</td>\n      <td>0.506106</td>\n      <td>0.459092</td>\n      <td>0.444926</td>\n      <td>0.507947</td>\n      <td>0.460345</td>\n      <td>0.458832</td>\n      <td>...</td>\n      <td>-0.105752</td>\n      <td>0.087671</td>\n      <td>0.078010</td>\n      <td>0.003082</td>\n      <td>-0.007256</td>\n      <td>-0.006444</td>\n      <td>-0.004582</td>\n      <td>-0.748249</td>\n      <td>1.000000</td>\n      <td>0.545614</td>\n    </tr>\n    <tr>\n      <th>angle(Z,gravityMean)</th>\n      <td>0.030656</td>\n      <td>-0.016233</td>\n      <td>-0.028406</td>\n      <td>0.393063</td>\n      <td>0.425511</td>\n      <td>0.483424</td>\n      <td>0.389481</td>\n      <td>0.424479</td>\n      <td>0.480032</td>\n      <td>0.402873</td>\n      <td>...</td>\n      <td>-0.061105</td>\n      <td>0.058759</td>\n      <td>0.054008</td>\n      <td>-0.003242</td>\n      <td>-0.013130</td>\n      <td>-0.015380</td>\n      <td>-0.012549</td>\n      <td>-0.635231</td>\n      <td>0.545614</td>\n      <td>1.000000</td>\n    </tr>\n  </tbody>\n</table>\n<p>561 rows × 561 columns</p>\n</div>"
     },
     "metadata": {},
     "execution_count": 12
    }
   ],
   "source": [
    "data[feature_cols].corr()\n",
    "# corr_values\n",
    "# tril_index\n",
    "# feature_cols\n",
    "\n",
    "# imprimindo as variaveis p/ entender o que acontece"
   ]
  },
  {
   "cell_type": "markdown",
   "metadata": {},
   "source": [
    "A histogram of the absolute value correlations."
   ]
  },
  {
   "cell_type": "code",
   "execution_count": 13,
   "metadata": {
    "collapsed": true
   },
   "outputs": [],
   "source": [
    "import matplotlib.pyplot as plt\n",
    "import seaborn as sns\n",
    "%matplotlib inline"
   ]
  },
  {
   "cell_type": "code",
   "execution_count": 14,
   "metadata": {},
   "outputs": [
    {
     "output_type": "display_data",
     "data": {
      "text/plain": "<Figure size 432x288 with 1 Axes>",
      "image/svg+xml": "<?xml version=\"1.0\" encoding=\"utf-8\" standalone=\"no\"?>\n<!DOCTYPE svg PUBLIC \"-//W3C//DTD SVG 1.1//EN\"\n  \"http://www.w3.org/Graphics/SVG/1.1/DTD/svg11.dtd\">\n<!-- Created with matplotlib (https://matplotlib.org/) -->\n<svg height=\"285.700892pt\" version=\"1.1\" viewBox=\"0 0 428.250234 285.700892\" width=\"428.250234pt\" xmlns=\"http://www.w3.org/2000/svg\" xmlns:xlink=\"http://www.w3.org/1999/xlink\">\n <metadata>\n  <rdf:RDF xmlns:cc=\"http://creativecommons.org/ns#\" xmlns:dc=\"http://purl.org/dc/elements/1.1/\" xmlns:rdf=\"http://www.w3.org/1999/02/22-rdf-syntax-ns#\">\n   <cc:Work>\n    <dc:type rdf:resource=\"http://purl.org/dc/dcmitype/StillImage\"/>\n    <dc:date>2020-09-05T18:49:35.192816</dc:date>\n    <dc:format>image/svg+xml</dc:format>\n    <dc:creator>\n     <cc:Agent>\n      <dc:title>Matplotlib v3.3.1, https://matplotlib.org/</dc:title>\n     </cc:Agent>\n    </dc:creator>\n   </cc:Work>\n  </rdf:RDF>\n </metadata>\n <defs>\n  <style type=\"text/css\">*{stroke-linecap:butt;stroke-linejoin:round;}</style>\n </defs>\n <g id=\"figure_1\">\n  <g id=\"patch_1\">\n   <path d=\"M 0 285.700892 \nL 428.250234 285.700892 \nL 428.250234 0 \nL 0 0 \nz\n\" style=\"fill:#ffffff;\"/>\n  </g>\n  <g id=\"axes_1\">\n   <g id=\"patch_2\">\n    <path d=\"M 86.250234 230.449564 \nL 421.050234 230.449564 \nL 421.050234 13.009564 \nL 86.250234 13.009564 \nz\n\" style=\"fill:#ffffff;\"/>\n   </g>\n   <g id=\"matplotlib.axis_1\">\n    <g id=\"xtick_1\">\n     <g id=\"line2d_1\">\n      <path clip-path=\"url(#p0260a7ec77)\" d=\"M 101.467646 230.449564 \nL 101.467646 13.009564 \n\" style=\"fill:none;stroke:#cccccc;stroke-linecap:round;stroke-width:1.5;\"/>\n     </g>\n     <g id=\"text_1\">\n      <!-- 0.0 -->\n      <g style=\"fill:#262626;\" transform=\"translate(90.000146 254.759954)scale(0.165 -0.165)\">\n       <defs>\n        <path d=\"M 4.15625 35.296875 \nQ 4.15625 48 6.765625 55.734375 \nQ 9.375 63.484375 14.515625 67.671875 \nQ 19.671875 71.875 27.484375 71.875 \nQ 33.25 71.875 37.59375 69.546875 \nQ 41.9375 67.234375 44.765625 62.859375 \nQ 47.609375 58.5 49.21875 52.21875 \nQ 50.828125 45.953125 50.828125 35.296875 \nQ 50.828125 22.703125 48.234375 14.96875 \nQ 45.65625 7.234375 40.5 3 \nQ 35.359375 -1.21875 27.484375 -1.21875 \nQ 17.140625 -1.21875 11.234375 6.203125 \nQ 4.15625 15.140625 4.15625 35.296875 \nz\nM 13.1875 35.296875 \nQ 13.1875 17.671875 17.3125 11.828125 \nQ 21.4375 6 27.484375 6 \nQ 33.546875 6 37.671875 11.859375 \nQ 41.796875 17.71875 41.796875 35.296875 \nQ 41.796875 52.984375 37.671875 58.78125 \nQ 33.546875 64.59375 27.390625 64.59375 \nQ 21.34375 64.59375 17.71875 59.46875 \nQ 13.1875 52.9375 13.1875 35.296875 \nz\n\" id=\"ArialMT-48\"/>\n        <path d=\"M 9.078125 0 \nL 9.078125 10.015625 \nL 19.09375 10.015625 \nL 19.09375 0 \nz\n\" id=\"ArialMT-46\"/>\n       </defs>\n       <use xlink:href=\"#ArialMT-48\"/>\n       <use x=\"55.615234\" xlink:href=\"#ArialMT-46\"/>\n       <use x=\"83.398438\" xlink:href=\"#ArialMT-48\"/>\n      </g>\n     </g>\n    </g>\n    <g id=\"xtick_2\">\n     <g id=\"line2d_2\">\n      <path clip-path=\"url(#p0260a7ec77)\" d=\"M 162.340527 230.449564 \nL 162.340527 13.009564 \n\" style=\"fill:none;stroke:#cccccc;stroke-linecap:round;stroke-width:1.5;\"/>\n     </g>\n     <g id=\"text_2\">\n      <!-- 0.2 -->\n      <g style=\"fill:#262626;\" transform=\"translate(150.873027 254.759954)scale(0.165 -0.165)\">\n       <defs>\n        <path d=\"M 50.34375 8.453125 \nL 50.34375 0 \nL 3.03125 0 \nQ 2.9375 3.171875 4.046875 6.109375 \nQ 5.859375 10.9375 9.828125 15.625 \nQ 13.8125 20.3125 21.34375 26.46875 \nQ 33.015625 36.03125 37.109375 41.625 \nQ 41.21875 47.21875 41.21875 52.203125 \nQ 41.21875 57.421875 37.46875 61 \nQ 33.734375 64.59375 27.734375 64.59375 \nQ 21.390625 64.59375 17.578125 60.78125 \nQ 13.765625 56.984375 13.71875 50.25 \nL 4.6875 51.171875 \nQ 5.609375 61.28125 11.65625 66.578125 \nQ 17.71875 71.875 27.9375 71.875 \nQ 38.234375 71.875 44.234375 66.15625 \nQ 50.25 60.453125 50.25 52 \nQ 50.25 47.703125 48.484375 43.546875 \nQ 46.734375 39.40625 42.65625 34.8125 \nQ 38.578125 30.21875 29.109375 22.21875 \nQ 21.1875 15.578125 18.9375 13.203125 \nQ 16.703125 10.84375 15.234375 8.453125 \nz\n\" id=\"ArialMT-50\"/>\n       </defs>\n       <use xlink:href=\"#ArialMT-48\"/>\n       <use x=\"55.615234\" xlink:href=\"#ArialMT-46\"/>\n       <use x=\"83.398438\" xlink:href=\"#ArialMT-50\"/>\n      </g>\n     </g>\n    </g>\n    <g id=\"xtick_3\">\n     <g id=\"line2d_3\">\n      <path clip-path=\"url(#p0260a7ec77)\" d=\"M 223.213409 230.449564 \nL 223.213409 13.009564 \n\" style=\"fill:none;stroke:#cccccc;stroke-linecap:round;stroke-width:1.5;\"/>\n     </g>\n     <g id=\"text_3\">\n      <!-- 0.4 -->\n      <g style=\"fill:#262626;\" transform=\"translate(211.745909 254.759954)scale(0.165 -0.165)\">\n       <defs>\n        <path d=\"M 32.328125 0 \nL 32.328125 17.140625 \nL 1.265625 17.140625 \nL 1.265625 25.203125 \nL 33.9375 71.578125 \nL 41.109375 71.578125 \nL 41.109375 25.203125 \nL 50.78125 25.203125 \nL 50.78125 17.140625 \nL 41.109375 17.140625 \nL 41.109375 0 \nz\nM 32.328125 25.203125 \nL 32.328125 57.46875 \nL 9.90625 25.203125 \nz\n\" id=\"ArialMT-52\"/>\n       </defs>\n       <use xlink:href=\"#ArialMT-48\"/>\n       <use x=\"55.615234\" xlink:href=\"#ArialMT-46\"/>\n       <use x=\"83.398438\" xlink:href=\"#ArialMT-52\"/>\n      </g>\n     </g>\n    </g>\n    <g id=\"xtick_4\">\n     <g id=\"line2d_4\">\n      <path clip-path=\"url(#p0260a7ec77)\" d=\"M 284.08629 230.449564 \nL 284.08629 13.009564 \n\" style=\"fill:none;stroke:#cccccc;stroke-linecap:round;stroke-width:1.5;\"/>\n     </g>\n     <g id=\"text_4\">\n      <!-- 0.6 -->\n      <g style=\"fill:#262626;\" transform=\"translate(272.61879 254.759954)scale(0.165 -0.165)\">\n       <defs>\n        <path d=\"M 49.75 54.046875 \nL 41.015625 53.375 \nQ 39.84375 58.546875 37.703125 60.890625 \nQ 34.125 64.65625 28.90625 64.65625 \nQ 24.703125 64.65625 21.53125 62.3125 \nQ 17.390625 59.28125 14.984375 53.46875 \nQ 12.59375 47.65625 12.5 36.921875 \nQ 15.671875 41.75 20.265625 44.09375 \nQ 24.859375 46.4375 29.890625 46.4375 \nQ 38.671875 46.4375 44.84375 39.96875 \nQ 51.03125 33.5 51.03125 23.25 \nQ 51.03125 16.5 48.125 10.71875 \nQ 45.21875 4.9375 40.140625 1.859375 \nQ 35.0625 -1.21875 28.609375 -1.21875 \nQ 17.625 -1.21875 10.6875 6.859375 \nQ 3.765625 14.9375 3.765625 33.5 \nQ 3.765625 54.25 11.421875 63.671875 \nQ 18.109375 71.875 29.4375 71.875 \nQ 37.890625 71.875 43.28125 67.140625 \nQ 48.6875 62.40625 49.75 54.046875 \nz\nM 13.875 23.1875 \nQ 13.875 18.65625 15.796875 14.5 \nQ 17.71875 10.359375 21.1875 8.171875 \nQ 24.65625 6 28.46875 6 \nQ 34.03125 6 38.03125 10.484375 \nQ 42.046875 14.984375 42.046875 22.703125 \nQ 42.046875 30.125 38.078125 34.390625 \nQ 34.125 38.671875 28.125 38.671875 \nQ 22.171875 38.671875 18.015625 34.390625 \nQ 13.875 30.125 13.875 23.1875 \nz\n\" id=\"ArialMT-54\"/>\n       </defs>\n       <use xlink:href=\"#ArialMT-48\"/>\n       <use x=\"55.615234\" xlink:href=\"#ArialMT-46\"/>\n       <use x=\"83.398438\" xlink:href=\"#ArialMT-54\"/>\n      </g>\n     </g>\n    </g>\n    <g id=\"xtick_5\">\n     <g id=\"line2d_5\">\n      <path clip-path=\"url(#p0260a7ec77)\" d=\"M 344.959171 230.449564 \nL 344.959171 13.009564 \n\" style=\"fill:none;stroke:#cccccc;stroke-linecap:round;stroke-width:1.5;\"/>\n     </g>\n     <g id=\"text_5\">\n      <!-- 0.8 -->\n      <g style=\"fill:#262626;\" transform=\"translate(333.491671 254.759954)scale(0.165 -0.165)\">\n       <defs>\n        <path d=\"M 17.671875 38.8125 \nQ 12.203125 40.828125 9.5625 44.53125 \nQ 6.9375 48.25 6.9375 53.421875 \nQ 6.9375 61.234375 12.546875 66.546875 \nQ 18.171875 71.875 27.484375 71.875 \nQ 36.859375 71.875 42.578125 66.421875 \nQ 48.296875 60.984375 48.296875 53.171875 \nQ 48.296875 48.1875 45.671875 44.5 \nQ 43.0625 40.828125 37.75 38.8125 \nQ 44.34375 36.671875 47.78125 31.875 \nQ 51.21875 27.09375 51.21875 20.453125 \nQ 51.21875 11.28125 44.71875 5.03125 \nQ 38.234375 -1.21875 27.640625 -1.21875 \nQ 17.046875 -1.21875 10.546875 5.046875 \nQ 4.046875 11.328125 4.046875 20.703125 \nQ 4.046875 27.6875 7.59375 32.390625 \nQ 11.140625 37.109375 17.671875 38.8125 \nz\nM 15.921875 53.71875 \nQ 15.921875 48.640625 19.1875 45.40625 \nQ 22.46875 42.1875 27.6875 42.1875 \nQ 32.765625 42.1875 36.015625 45.375 \nQ 39.265625 48.578125 39.265625 53.21875 \nQ 39.265625 58.0625 35.90625 61.359375 \nQ 32.5625 64.65625 27.59375 64.65625 \nQ 22.5625 64.65625 19.234375 61.421875 \nQ 15.921875 58.203125 15.921875 53.71875 \nz\nM 13.09375 20.65625 \nQ 13.09375 16.890625 14.875 13.375 \nQ 16.65625 9.859375 20.171875 7.921875 \nQ 23.6875 6 27.734375 6 \nQ 34.03125 6 38.125 10.046875 \nQ 42.234375 14.109375 42.234375 20.359375 \nQ 42.234375 26.703125 38.015625 30.859375 \nQ 33.796875 35.015625 27.4375 35.015625 \nQ 21.234375 35.015625 17.15625 30.90625 \nQ 13.09375 26.8125 13.09375 20.65625 \nz\n\" id=\"ArialMT-56\"/>\n       </defs>\n       <use xlink:href=\"#ArialMT-48\"/>\n       <use x=\"55.615234\" xlink:href=\"#ArialMT-46\"/>\n       <use x=\"83.398438\" xlink:href=\"#ArialMT-56\"/>\n      </g>\n     </g>\n    </g>\n    <g id=\"xtick_6\">\n     <g id=\"line2d_6\">\n      <path clip-path=\"url(#p0260a7ec77)\" d=\"M 405.832053 230.449564 \nL 405.832053 13.009564 \n\" style=\"fill:none;stroke:#cccccc;stroke-linecap:round;stroke-width:1.5;\"/>\n     </g>\n     <g id=\"text_6\">\n      <!-- 1.0 -->\n      <g style=\"fill:#262626;\" transform=\"translate(394.364553 254.759954)scale(0.165 -0.165)\">\n       <defs>\n        <path d=\"M 37.25 0 \nL 28.46875 0 \nL 28.46875 56 \nQ 25.296875 52.984375 20.140625 49.953125 \nQ 14.984375 46.921875 10.890625 45.40625 \nL 10.890625 53.90625 \nQ 18.265625 57.375 23.78125 62.296875 \nQ 29.296875 67.234375 31.59375 71.875 \nL 37.25 71.875 \nz\n\" id=\"ArialMT-49\"/>\n       </defs>\n       <use xlink:href=\"#ArialMT-49\"/>\n       <use x=\"55.615234\" xlink:href=\"#ArialMT-46\"/>\n       <use x=\"83.398438\" xlink:href=\"#ArialMT-48\"/>\n      </g>\n     </g>\n    </g>\n    <g id=\"text_7\">\n     <!-- Absolute Correlation -->\n     <g style=\"fill:#262626;\" transform=\"translate(172.110234 274.923392)scale(0.18 -0.18)\">\n      <defs>\n       <path d=\"M -0.140625 0 \nL 27.34375 71.578125 \nL 37.546875 71.578125 \nL 66.84375 0 \nL 56.0625 0 \nL 47.703125 21.6875 \nL 17.78125 21.6875 \nL 9.90625 0 \nz\nM 20.515625 29.390625 \nL 44.78125 29.390625 \nL 37.3125 49.21875 \nQ 33.890625 58.25 32.234375 64.0625 \nQ 30.859375 57.171875 28.375 50.390625 \nz\n\" id=\"ArialMT-65\"/>\n       <path d=\"M 14.703125 0 \nL 6.546875 0 \nL 6.546875 71.578125 \nL 15.328125 71.578125 \nL 15.328125 46.046875 \nQ 20.90625 53.03125 29.546875 53.03125 \nQ 34.328125 53.03125 38.59375 51.09375 \nQ 42.875 49.171875 45.625 45.671875 \nQ 48.390625 42.1875 49.953125 37.25 \nQ 51.515625 32.328125 51.515625 26.703125 \nQ 51.515625 13.375 44.921875 6.09375 \nQ 38.328125 -1.171875 29.109375 -1.171875 \nQ 19.921875 -1.171875 14.703125 6.5 \nz\nM 14.59375 26.3125 \nQ 14.59375 17 17.140625 12.84375 \nQ 21.296875 6.0625 28.375 6.0625 \nQ 34.125 6.0625 38.328125 11.0625 \nQ 42.53125 16.0625 42.53125 25.984375 \nQ 42.53125 36.140625 38.5 40.96875 \nQ 34.46875 45.796875 28.765625 45.796875 \nQ 23 45.796875 18.796875 40.796875 \nQ 14.59375 35.796875 14.59375 26.3125 \nz\n\" id=\"ArialMT-98\"/>\n       <path d=\"M 3.078125 15.484375 \nL 11.765625 16.84375 \nQ 12.5 11.625 15.84375 8.84375 \nQ 19.1875 6.0625 25.203125 6.0625 \nQ 31.25 6.0625 34.171875 8.515625 \nQ 37.109375 10.984375 37.109375 14.3125 \nQ 37.109375 17.28125 34.515625 19 \nQ 32.71875 20.171875 25.53125 21.96875 \nQ 15.875 24.421875 12.140625 26.203125 \nQ 8.40625 27.984375 6.46875 31.125 \nQ 4.546875 34.28125 4.546875 38.09375 \nQ 4.546875 41.546875 6.125 44.5 \nQ 7.71875 47.46875 10.453125 49.421875 \nQ 12.5 50.921875 16.03125 51.96875 \nQ 19.578125 53.03125 23.640625 53.03125 \nQ 29.734375 53.03125 34.34375 51.265625 \nQ 38.96875 49.515625 41.15625 46.5 \nQ 43.359375 43.5 44.1875 38.484375 \nL 35.59375 37.3125 \nQ 35.015625 41.3125 32.203125 43.546875 \nQ 29.390625 45.796875 24.265625 45.796875 \nQ 18.21875 45.796875 15.625 43.796875 \nQ 13.03125 41.796875 13.03125 39.109375 \nQ 13.03125 37.40625 14.109375 36.03125 \nQ 15.1875 34.625 17.484375 33.6875 \nQ 18.796875 33.203125 25.25 31.453125 \nQ 34.578125 28.953125 38.25 27.359375 \nQ 41.9375 25.78125 44.03125 22.75 \nQ 46.140625 19.734375 46.140625 15.234375 \nQ 46.140625 10.84375 43.578125 6.953125 \nQ 41.015625 3.078125 36.171875 0.953125 \nQ 31.34375 -1.171875 25.25 -1.171875 \nQ 15.140625 -1.171875 9.84375 3.03125 \nQ 4.546875 7.234375 3.078125 15.484375 \nz\n\" id=\"ArialMT-115\"/>\n       <path d=\"M 3.328125 25.921875 \nQ 3.328125 40.328125 11.328125 47.265625 \nQ 18.015625 53.03125 27.640625 53.03125 \nQ 38.328125 53.03125 45.109375 46.015625 \nQ 51.90625 39.015625 51.90625 26.65625 \nQ 51.90625 16.65625 48.90625 10.90625 \nQ 45.90625 5.171875 40.15625 2 \nQ 34.421875 -1.171875 27.640625 -1.171875 \nQ 16.75 -1.171875 10.03125 5.8125 \nQ 3.328125 12.796875 3.328125 25.921875 \nz\nM 12.359375 25.921875 \nQ 12.359375 15.96875 16.703125 11.015625 \nQ 21.046875 6.0625 27.640625 6.0625 \nQ 34.1875 6.0625 38.53125 11.03125 \nQ 42.875 16.015625 42.875 26.21875 \nQ 42.875 35.84375 38.5 40.796875 \nQ 34.125 45.75 27.640625 45.75 \nQ 21.046875 45.75 16.703125 40.8125 \nQ 12.359375 35.890625 12.359375 25.921875 \nz\n\" id=\"ArialMT-111\"/>\n       <path d=\"M 6.390625 0 \nL 6.390625 71.578125 \nL 15.1875 71.578125 \nL 15.1875 0 \nz\n\" id=\"ArialMT-108\"/>\n       <path d=\"M 40.578125 0 \nL 40.578125 7.625 \nQ 34.515625 -1.171875 24.125 -1.171875 \nQ 19.53125 -1.171875 15.546875 0.578125 \nQ 11.578125 2.34375 9.640625 5 \nQ 7.71875 7.671875 6.9375 11.53125 \nQ 6.390625 14.109375 6.390625 19.734375 \nL 6.390625 51.859375 \nL 15.1875 51.859375 \nL 15.1875 23.09375 \nQ 15.1875 16.21875 15.71875 13.8125 \nQ 16.546875 10.359375 19.234375 8.375 \nQ 21.921875 6.390625 25.875 6.390625 \nQ 29.828125 6.390625 33.296875 8.421875 \nQ 36.765625 10.453125 38.203125 13.9375 \nQ 39.65625 17.4375 39.65625 24.078125 \nL 39.65625 51.859375 \nL 48.4375 51.859375 \nL 48.4375 0 \nz\n\" id=\"ArialMT-117\"/>\n       <path d=\"M 25.78125 7.859375 \nL 27.046875 0.09375 \nQ 23.34375 -0.6875 20.40625 -0.6875 \nQ 15.625 -0.6875 12.984375 0.828125 \nQ 10.359375 2.34375 9.28125 4.8125 \nQ 8.203125 7.28125 8.203125 15.1875 \nL 8.203125 45.015625 \nL 1.765625 45.015625 \nL 1.765625 51.859375 \nL 8.203125 51.859375 \nL 8.203125 64.703125 \nL 16.9375 69.96875 \nL 16.9375 51.859375 \nL 25.78125 51.859375 \nL 25.78125 45.015625 \nL 16.9375 45.015625 \nL 16.9375 14.703125 \nQ 16.9375 10.9375 17.40625 9.859375 \nQ 17.875 8.796875 18.921875 8.15625 \nQ 19.96875 7.515625 21.921875 7.515625 \nQ 23.390625 7.515625 25.78125 7.859375 \nz\n\" id=\"ArialMT-116\"/>\n       <path d=\"M 42.09375 16.703125 \nL 51.171875 15.578125 \nQ 49.03125 7.625 43.21875 3.21875 \nQ 37.40625 -1.171875 28.375 -1.171875 \nQ 17 -1.171875 10.328125 5.828125 \nQ 3.65625 12.84375 3.65625 25.484375 \nQ 3.65625 38.578125 10.390625 45.796875 \nQ 17.140625 53.03125 27.875 53.03125 \nQ 38.28125 53.03125 44.875 45.953125 \nQ 51.46875 38.875 51.46875 26.03125 \nQ 51.46875 25.25 51.421875 23.6875 \nL 12.75 23.6875 \nQ 13.234375 15.140625 17.578125 10.59375 \nQ 21.921875 6.0625 28.421875 6.0625 \nQ 33.25 6.0625 36.671875 8.59375 \nQ 40.09375 11.140625 42.09375 16.703125 \nz\nM 13.234375 30.90625 \nL 42.1875 30.90625 \nQ 41.609375 37.453125 38.875 40.71875 \nQ 34.671875 45.796875 27.984375 45.796875 \nQ 21.921875 45.796875 17.796875 41.75 \nQ 13.671875 37.703125 13.234375 30.90625 \nz\n\" id=\"ArialMT-101\"/>\n       <path id=\"ArialMT-32\"/>\n       <path d=\"M 58.796875 25.09375 \nL 68.265625 22.703125 \nQ 65.28125 11.03125 57.546875 4.90625 \nQ 49.8125 -1.21875 38.625 -1.21875 \nQ 27.046875 -1.21875 19.796875 3.484375 \nQ 12.546875 8.203125 8.765625 17.140625 \nQ 4.984375 26.078125 4.984375 36.328125 \nQ 4.984375 47.515625 9.25 55.828125 \nQ 13.53125 64.15625 21.40625 68.46875 \nQ 29.296875 72.796875 38.765625 72.796875 \nQ 49.515625 72.796875 56.828125 67.328125 \nQ 64.15625 61.859375 67.046875 51.953125 \nL 57.71875 49.75 \nQ 55.21875 57.5625 50.484375 61.125 \nQ 45.75 64.703125 38.578125 64.703125 \nQ 30.328125 64.703125 24.78125 60.734375 \nQ 19.234375 56.78125 16.984375 50.109375 \nQ 14.75 43.453125 14.75 36.375 \nQ 14.75 27.25 17.40625 20.4375 \nQ 20.0625 13.625 25.671875 10.25 \nQ 31.296875 6.890625 37.84375 6.890625 \nQ 45.796875 6.890625 51.3125 11.46875 \nQ 56.84375 16.0625 58.796875 25.09375 \nz\n\" id=\"ArialMT-67\"/>\n       <path d=\"M 6.5 0 \nL 6.5 51.859375 \nL 14.40625 51.859375 \nL 14.40625 44 \nQ 17.4375 49.515625 20 51.265625 \nQ 22.5625 53.03125 25.640625 53.03125 \nQ 30.078125 53.03125 34.671875 50.203125 \nL 31.640625 42.046875 \nQ 28.421875 43.953125 25.203125 43.953125 \nQ 22.3125 43.953125 20.015625 42.21875 \nQ 17.71875 40.484375 16.75 37.40625 \nQ 15.28125 32.71875 15.28125 27.15625 \nL 15.28125 0 \nz\n\" id=\"ArialMT-114\"/>\n       <path d=\"M 40.4375 6.390625 \nQ 35.546875 2.25 31.03125 0.53125 \nQ 26.515625 -1.171875 21.34375 -1.171875 \nQ 12.796875 -1.171875 8.203125 3 \nQ 3.609375 7.171875 3.609375 13.671875 \nQ 3.609375 17.484375 5.34375 20.625 \nQ 7.078125 23.78125 9.890625 25.6875 \nQ 12.703125 27.59375 16.21875 28.5625 \nQ 18.796875 29.25 24.03125 29.890625 \nQ 34.671875 31.15625 39.703125 32.90625 \nQ 39.75 34.71875 39.75 35.203125 \nQ 39.75 40.578125 37.25 42.78125 \nQ 33.890625 45.75 27.25 45.75 \nQ 21.046875 45.75 18.09375 43.578125 \nQ 15.140625 41.40625 13.71875 35.890625 \nL 5.125 37.0625 \nQ 6.296875 42.578125 8.984375 45.96875 \nQ 11.671875 49.359375 16.75 51.1875 \nQ 21.828125 53.03125 28.515625 53.03125 \nQ 35.15625 53.03125 39.296875 51.46875 \nQ 43.453125 49.90625 45.40625 47.53125 \nQ 47.359375 45.171875 48.140625 41.546875 \nQ 48.578125 39.3125 48.578125 33.453125 \nL 48.578125 21.734375 \nQ 48.578125 9.46875 49.140625 6.21875 \nQ 49.703125 2.984375 51.375 0 \nL 42.1875 0 \nQ 40.828125 2.734375 40.4375 6.390625 \nz\nM 39.703125 26.03125 \nQ 34.90625 24.078125 25.34375 22.703125 \nQ 19.921875 21.921875 17.671875 20.9375 \nQ 15.4375 19.96875 14.203125 18.09375 \nQ 12.984375 16.21875 12.984375 13.921875 \nQ 12.984375 10.40625 15.640625 8.0625 \nQ 18.3125 5.71875 23.4375 5.71875 \nQ 28.515625 5.71875 32.46875 7.9375 \nQ 36.421875 10.15625 38.28125 14.015625 \nQ 39.703125 17 39.703125 22.796875 \nz\n\" id=\"ArialMT-97\"/>\n       <path d=\"M 6.640625 61.46875 \nL 6.640625 71.578125 \nL 15.4375 71.578125 \nL 15.4375 61.46875 \nz\nM 6.640625 0 \nL 6.640625 51.859375 \nL 15.4375 51.859375 \nL 15.4375 0 \nz\n\" id=\"ArialMT-105\"/>\n       <path d=\"M 6.59375 0 \nL 6.59375 51.859375 \nL 14.5 51.859375 \nL 14.5 44.484375 \nQ 20.21875 53.03125 31 53.03125 \nQ 35.6875 53.03125 39.625 51.34375 \nQ 43.5625 49.65625 45.515625 46.921875 \nQ 47.46875 44.1875 48.25 40.4375 \nQ 48.734375 37.984375 48.734375 31.890625 \nL 48.734375 0 \nL 39.9375 0 \nL 39.9375 31.546875 \nQ 39.9375 36.921875 38.90625 39.578125 \nQ 37.890625 42.234375 35.28125 43.8125 \nQ 32.671875 45.40625 29.15625 45.40625 \nQ 23.53125 45.40625 19.453125 41.84375 \nQ 15.375 38.28125 15.375 28.328125 \nL 15.375 0 \nz\n\" id=\"ArialMT-110\"/>\n      </defs>\n      <use xlink:href=\"#ArialMT-65\"/>\n      <use x=\"66.699219\" xlink:href=\"#ArialMT-98\"/>\n      <use x=\"122.314453\" xlink:href=\"#ArialMT-115\"/>\n      <use x=\"172.314453\" xlink:href=\"#ArialMT-111\"/>\n      <use x=\"227.929688\" xlink:href=\"#ArialMT-108\"/>\n      <use x=\"250.146484\" xlink:href=\"#ArialMT-117\"/>\n      <use x=\"305.761719\" xlink:href=\"#ArialMT-116\"/>\n      <use x=\"333.544922\" xlink:href=\"#ArialMT-101\"/>\n      <use x=\"389.160156\" xlink:href=\"#ArialMT-32\"/>\n      <use x=\"416.943359\" xlink:href=\"#ArialMT-67\"/>\n      <use x=\"489.160156\" xlink:href=\"#ArialMT-111\"/>\n      <use x=\"544.775391\" xlink:href=\"#ArialMT-114\"/>\n      <use x=\"578.076172\" xlink:href=\"#ArialMT-114\"/>\n      <use x=\"611.376953\" xlink:href=\"#ArialMT-101\"/>\n      <use x=\"666.992188\" xlink:href=\"#ArialMT-108\"/>\n      <use x=\"689.208984\" xlink:href=\"#ArialMT-97\"/>\n      <use x=\"744.824219\" xlink:href=\"#ArialMT-116\"/>\n      <use x=\"772.607422\" xlink:href=\"#ArialMT-105\"/>\n      <use x=\"794.824219\" xlink:href=\"#ArialMT-111\"/>\n      <use x=\"850.439453\" xlink:href=\"#ArialMT-110\"/>\n     </g>\n    </g>\n   </g>\n   <g id=\"matplotlib.axis_2\">\n    <g id=\"ytick_1\">\n     <g id=\"line2d_7\">\n      <path clip-path=\"url(#p0260a7ec77)\" d=\"M 86.250234 230.449564 \nL 421.050234 230.449564 \n\" style=\"fill:none;stroke:#cccccc;stroke-linecap:round;stroke-width:1.5;\"/>\n     </g>\n     <g id=\"text_8\">\n      <!-- 0 -->\n      <g style=\"fill:#262626;\" transform=\"translate(64.574688 236.354759)scale(0.165 -0.165)\">\n       <use xlink:href=\"#ArialMT-48\"/>\n      </g>\n     </g>\n    </g>\n    <g id=\"ytick_2\">\n     <g id=\"line2d_8\">\n      <path clip-path=\"url(#p0260a7ec77)\" d=\"M 86.250234 186.98069 \nL 421.050234 186.98069 \n\" style=\"fill:none;stroke:#cccccc;stroke-linecap:round;stroke-width:1.5;\"/>\n     </g>\n     <g id=\"text_9\">\n      <!-- 2000 -->\n      <g style=\"fill:#262626;\" transform=\"translate(37.048047 192.885885)scale(0.165 -0.165)\">\n       <use xlink:href=\"#ArialMT-50\"/>\n       <use x=\"55.615234\" xlink:href=\"#ArialMT-48\"/>\n       <use x=\"111.230469\" xlink:href=\"#ArialMT-48\"/>\n       <use x=\"166.845703\" xlink:href=\"#ArialMT-48\"/>\n      </g>\n     </g>\n    </g>\n    <g id=\"ytick_3\">\n     <g id=\"line2d_9\">\n      <path clip-path=\"url(#p0260a7ec77)\" d=\"M 86.250234 143.511816 \nL 421.050234 143.511816 \n\" style=\"fill:none;stroke:#cccccc;stroke-linecap:round;stroke-width:1.5;\"/>\n     </g>\n     <g id=\"text_10\">\n      <!-- 4000 -->\n      <g style=\"fill:#262626;\" transform=\"translate(37.048047 149.417012)scale(0.165 -0.165)\">\n       <use xlink:href=\"#ArialMT-52\"/>\n       <use x=\"55.615234\" xlink:href=\"#ArialMT-48\"/>\n       <use x=\"111.230469\" xlink:href=\"#ArialMT-48\"/>\n       <use x=\"166.845703\" xlink:href=\"#ArialMT-48\"/>\n      </g>\n     </g>\n    </g>\n    <g id=\"ytick_4\">\n     <g id=\"line2d_10\">\n      <path clip-path=\"url(#p0260a7ec77)\" d=\"M 86.250234 100.042943 \nL 421.050234 100.042943 \n\" style=\"fill:none;stroke:#cccccc;stroke-linecap:round;stroke-width:1.5;\"/>\n     </g>\n     <g id=\"text_11\">\n      <!-- 6000 -->\n      <g style=\"fill:#262626;\" transform=\"translate(37.048047 105.948138)scale(0.165 -0.165)\">\n       <use xlink:href=\"#ArialMT-54\"/>\n       <use x=\"55.615234\" xlink:href=\"#ArialMT-48\"/>\n       <use x=\"111.230469\" xlink:href=\"#ArialMT-48\"/>\n       <use x=\"166.845703\" xlink:href=\"#ArialMT-48\"/>\n      </g>\n     </g>\n    </g>\n    <g id=\"ytick_5\">\n     <g id=\"line2d_11\">\n      <path clip-path=\"url(#p0260a7ec77)\" d=\"M 86.250234 56.574069 \nL 421.050234 56.574069 \n\" style=\"fill:none;stroke:#cccccc;stroke-linecap:round;stroke-width:1.5;\"/>\n     </g>\n     <g id=\"text_12\">\n      <!-- 8000 -->\n      <g style=\"fill:#262626;\" transform=\"translate(37.048047 62.479264)scale(0.165 -0.165)\">\n       <use xlink:href=\"#ArialMT-56\"/>\n       <use x=\"55.615234\" xlink:href=\"#ArialMT-48\"/>\n       <use x=\"111.230469\" xlink:href=\"#ArialMT-48\"/>\n       <use x=\"166.845703\" xlink:href=\"#ArialMT-48\"/>\n      </g>\n     </g>\n    </g>\n    <g id=\"ytick_6\">\n     <g id=\"line2d_12\">\n      <path clip-path=\"url(#p0260a7ec77)\" d=\"M 86.250234 13.105195 \nL 421.050234 13.105195 \n\" style=\"fill:none;stroke:#cccccc;stroke-linecap:round;stroke-width:1.5;\"/>\n     </g>\n     <g id=\"text_13\">\n      <!-- 10000 -->\n      <g style=\"fill:#262626;\" transform=\"translate(27.8725 19.010391)scale(0.165 -0.165)\">\n       <use xlink:href=\"#ArialMT-49\"/>\n       <use x=\"55.615234\" xlink:href=\"#ArialMT-48\"/>\n       <use x=\"111.230469\" xlink:href=\"#ArialMT-48\"/>\n       <use x=\"166.845703\" xlink:href=\"#ArialMT-48\"/>\n       <use x=\"222.460938\" xlink:href=\"#ArialMT-48\"/>\n      </g>\n     </g>\n    </g>\n    <g id=\"text_14\">\n     <!-- Frequency -->\n     <g style=\"fill:#262626;\" transform=\"translate(20.084062 164.247533)rotate(-90)scale(0.18 -0.18)\">\n      <defs>\n       <path d=\"M 8.203125 0 \nL 8.203125 71.578125 \nL 56.5 71.578125 \nL 56.5 63.140625 \nL 17.671875 63.140625 \nL 17.671875 40.96875 \nL 51.265625 40.96875 \nL 51.265625 32.515625 \nL 17.671875 32.515625 \nL 17.671875 0 \nz\n\" id=\"ArialMT-70\"/>\n       <path d=\"M 39.65625 -19.875 \nL 39.65625 5.515625 \nQ 37.59375 2.640625 33.90625 0.734375 \nQ 30.21875 -1.171875 26.078125 -1.171875 \nQ 16.84375 -1.171875 10.171875 6.203125 \nQ 3.515625 13.578125 3.515625 26.421875 \nQ 3.515625 34.234375 6.21875 40.421875 \nQ 8.9375 46.625 14.078125 49.828125 \nQ 19.234375 53.03125 25.390625 53.03125 \nQ 35.015625 53.03125 40.53125 44.921875 \nL 40.53125 51.859375 \nL 48.4375 51.859375 \nL 48.4375 -19.875 \nz\nM 12.546875 26.078125 \nQ 12.546875 16.0625 16.75 11.0625 \nQ 20.953125 6.0625 26.8125 6.0625 \nQ 32.421875 6.0625 36.46875 10.8125 \nQ 40.53125 15.578125 40.53125 25.296875 \nQ 40.53125 35.640625 36.25 40.859375 \nQ 31.984375 46.09375 26.21875 46.09375 \nQ 20.515625 46.09375 16.53125 41.234375 \nQ 12.546875 36.375 12.546875 26.078125 \nz\n\" id=\"ArialMT-113\"/>\n       <path d=\"M 40.4375 19 \nL 49.078125 17.875 \nQ 47.65625 8.9375 41.8125 3.875 \nQ 35.984375 -1.171875 27.484375 -1.171875 \nQ 16.84375 -1.171875 10.375 5.78125 \nQ 3.90625 12.75 3.90625 25.734375 \nQ 3.90625 34.125 6.6875 40.421875 \nQ 9.46875 46.734375 15.15625 49.875 \nQ 20.84375 53.03125 27.546875 53.03125 \nQ 35.984375 53.03125 41.359375 48.75 \nQ 46.734375 44.484375 48.25 36.625 \nL 39.703125 35.296875 \nQ 38.484375 40.53125 35.375 43.15625 \nQ 32.28125 45.796875 27.875 45.796875 \nQ 21.234375 45.796875 17.078125 41.03125 \nQ 12.9375 36.28125 12.9375 25.984375 \nQ 12.9375 15.53125 16.9375 10.796875 \nQ 20.953125 6.0625 27.390625 6.0625 \nQ 32.5625 6.0625 36.03125 9.234375 \nQ 39.5 12.40625 40.4375 19 \nz\n\" id=\"ArialMT-99\"/>\n       <path d=\"M 6.203125 -19.96875 \nL 5.21875 -11.71875 \nQ 8.109375 -12.5 10.25 -12.5 \nQ 13.1875 -12.5 14.9375 -11.515625 \nQ 16.703125 -10.546875 17.828125 -8.796875 \nQ 18.65625 -7.46875 20.515625 -2.25 \nQ 20.75 -1.515625 21.296875 -0.09375 \nL 1.609375 51.859375 \nL 11.078125 51.859375 \nL 21.875 21.828125 \nQ 23.96875 16.109375 25.640625 9.8125 \nQ 27.15625 15.875 29.25 21.625 \nL 40.328125 51.859375 \nL 49.125 51.859375 \nL 29.390625 -0.875 \nQ 26.21875 -9.421875 24.46875 -12.640625 \nQ 22.125 -17 19.09375 -19.015625 \nQ 16.0625 -21.046875 11.859375 -21.046875 \nQ 9.328125 -21.046875 6.203125 -19.96875 \nz\n\" id=\"ArialMT-121\"/>\n      </defs>\n      <use xlink:href=\"#ArialMT-70\"/>\n      <use x=\"61.083984\" xlink:href=\"#ArialMT-114\"/>\n      <use x=\"94.384766\" xlink:href=\"#ArialMT-101\"/>\n      <use x=\"150\" xlink:href=\"#ArialMT-113\"/>\n      <use x=\"205.615234\" xlink:href=\"#ArialMT-117\"/>\n      <use x=\"261.230469\" xlink:href=\"#ArialMT-101\"/>\n      <use x=\"316.845703\" xlink:href=\"#ArialMT-110\"/>\n      <use x=\"372.460938\" xlink:href=\"#ArialMT-99\"/>\n      <use x=\"422.460938\" xlink:href=\"#ArialMT-121\"/>\n     </g>\n    </g>\n   </g>\n   <g id=\"patch_3\">\n    <path clip-path=\"url(#p0260a7ec77)\" d=\"M 101.468416 230.449564 \nL 107.555689 230.449564 \nL 107.555689 23.36385 \nL 101.468416 23.36385 \nz\n\" style=\"fill:#001c7f;stroke:#ffffff;stroke-linejoin:miter;stroke-width:1.5;\"/>\n   </g>\n   <g id=\"patch_4\">\n    <path clip-path=\"url(#p0260a7ec77)\" d=\"M 107.555689 230.449564 \nL 113.642962 230.449564 \nL 113.642962 80.155933 \nL 107.555689 80.155933 \nz\n\" style=\"fill:#001c7f;stroke:#ffffff;stroke-linejoin:miter;stroke-width:1.5;\"/>\n   </g>\n   <g id=\"patch_5\">\n    <path clip-path=\"url(#p0260a7ec77)\" d=\"M 113.642962 230.449564 \nL 119.730234 230.449564 \nL 119.730234 119.995156 \nL 113.642962 119.995156 \nz\n\" style=\"fill:#001c7f;stroke:#ffffff;stroke-linejoin:miter;stroke-width:1.5;\"/>\n   </g>\n   <g id=\"patch_6\">\n    <path clip-path=\"url(#p0260a7ec77)\" d=\"M 119.730234 230.449564 \nL 125.817507 230.449564 \nL 125.817507 133.666117 \nL 119.730234 133.666117 \nz\n\" style=\"fill:#001c7f;stroke:#ffffff;stroke-linejoin:miter;stroke-width:1.5;\"/>\n   </g>\n   <g id=\"patch_7\">\n    <path clip-path=\"url(#p0260a7ec77)\" d=\"M 125.817507 230.449564 \nL 131.90478 230.449564 \nL 131.90478 138.013004 \nL 125.817507 138.013004 \nz\n\" style=\"fill:#001c7f;stroke:#ffffff;stroke-linejoin:miter;stroke-width:1.5;\"/>\n   </g>\n   <g id=\"patch_8\">\n    <path clip-path=\"url(#p0260a7ec77)\" d=\"M 131.90478 230.449564 \nL 137.992053 230.449564 \nL 137.992053 135.600481 \nL 131.90478 135.600481 \nz\n\" style=\"fill:#001c7f;stroke:#ffffff;stroke-linejoin:miter;stroke-width:1.5;\"/>\n   </g>\n   <g id=\"patch_9\">\n    <path clip-path=\"url(#p0260a7ec77)\" d=\"M 137.992053 230.449564 \nL 144.079325 230.449564 \nL 144.079325 136.687203 \nL 137.992053 136.687203 \nz\n\" style=\"fill:#001c7f;stroke:#ffffff;stroke-linejoin:miter;stroke-width:1.5;\"/>\n   </g>\n   <g id=\"patch_10\">\n    <path clip-path=\"url(#p0260a7ec77)\" d=\"M 144.079325 230.449564 \nL 150.166598 230.449564 \nL 150.166598 138.556365 \nL 144.079325 138.556365 \nz\n\" style=\"fill:#001c7f;stroke:#ffffff;stroke-linejoin:miter;stroke-width:1.5;\"/>\n   </g>\n   <g id=\"patch_11\">\n    <path clip-path=\"url(#p0260a7ec77)\" d=\"M 150.166598 230.449564 \nL 156.253871 230.449564 \nL 156.253871 139.599618 \nL 150.166598 139.599618 \nz\n\" style=\"fill:#001c7f;stroke:#ffffff;stroke-linejoin:miter;stroke-width:1.5;\"/>\n   </g>\n   <g id=\"patch_12\">\n    <path clip-path=\"url(#p0260a7ec77)\" d=\"M 156.253871 230.449564 \nL 162.341143 230.449564 \nL 162.341143 144.402928 \nL 156.253871 144.402928 \nz\n\" style=\"fill:#001c7f;stroke:#ffffff;stroke-linejoin:miter;stroke-width:1.5;\"/>\n   </g>\n   <g id=\"patch_13\">\n    <path clip-path=\"url(#p0260a7ec77)\" d=\"M 162.341143 230.449564 \nL 168.428416 230.449564 \nL 168.428416 152.031716 \nL 162.341143 152.031716 \nz\n\" style=\"fill:#001c7f;stroke:#ffffff;stroke-linejoin:miter;stroke-width:1.5;\"/>\n   </g>\n   <g id=\"patch_14\">\n    <path clip-path=\"url(#p0260a7ec77)\" d=\"M 168.428416 230.449564 \nL 174.515689 230.449564 \nL 174.515689 156.856761 \nL 168.428416 156.856761 \nz\n\" style=\"fill:#001c7f;stroke:#ffffff;stroke-linejoin:miter;stroke-width:1.5;\"/>\n   </g>\n   <g id=\"patch_15\">\n    <path clip-path=\"url(#p0260a7ec77)\" d=\"M 174.515689 230.449564 \nL 180.602962 230.449564 \nL 180.602962 158.052155 \nL 174.515689 158.052155 \nz\n\" style=\"fill:#001c7f;stroke:#ffffff;stroke-linejoin:miter;stroke-width:1.5;\"/>\n   </g>\n   <g id=\"patch_16\">\n    <path clip-path=\"url(#p0260a7ec77)\" d=\"M 180.602962 230.449564 \nL 186.690234 230.449564 \nL 186.690234 163.942187 \nL 180.602962 163.942187 \nz\n\" style=\"fill:#001c7f;stroke:#ffffff;stroke-linejoin:miter;stroke-width:1.5;\"/>\n   </g>\n   <g id=\"patch_17\">\n    <path clip-path=\"url(#p0260a7ec77)\" d=\"M 186.690234 230.449564 \nL 192.777507 230.449564 \nL 192.777507 169.680078 \nL 186.690234 169.680078 \nz\n\" style=\"fill:#001c7f;stroke:#ffffff;stroke-linejoin:miter;stroke-width:1.5;\"/>\n   </g>\n   <g id=\"patch_18\">\n    <path clip-path=\"url(#p0260a7ec77)\" d=\"M 192.777507 230.449564 \nL 198.86478 230.449564 \nL 198.86478 170.984145 \nL 192.777507 170.984145 \nz\n\" style=\"fill:#001c7f;stroke:#ffffff;stroke-linejoin:miter;stroke-width:1.5;\"/>\n   </g>\n   <g id=\"patch_19\">\n    <path clip-path=\"url(#p0260a7ec77)\" d=\"M 198.86478 230.449564 \nL 204.952053 230.449564 \nL 204.952053 167.919589 \nL 198.86478 167.919589 \nz\n\" style=\"fill:#001c7f;stroke:#ffffff;stroke-linejoin:miter;stroke-width:1.5;\"/>\n   </g>\n   <g id=\"patch_20\">\n    <path clip-path=\"url(#p0260a7ec77)\" d=\"M 204.952053 230.449564 \nL 211.039325 230.449564 \nL 211.039325 169.614875 \nL 204.952053 169.614875 \nz\n\" style=\"fill:#001c7f;stroke:#ffffff;stroke-linejoin:miter;stroke-width:1.5;\"/>\n   </g>\n   <g id=\"patch_21\">\n    <path clip-path=\"url(#p0260a7ec77)\" d=\"M 211.039325 230.449564 \nL 217.126598 230.449564 \nL 217.126598 169.658344 \nL 211.039325 169.658344 \nz\n\" style=\"fill:#001c7f;stroke:#ffffff;stroke-linejoin:miter;stroke-width:1.5;\"/>\n   </g>\n   <g id=\"patch_22\">\n    <path clip-path=\"url(#p0260a7ec77)\" d=\"M 217.126598 230.449564 \nL 223.213871 230.449564 \nL 223.213871 172.52729 \nL 217.126598 172.52729 \nz\n\" style=\"fill:#001c7f;stroke:#ffffff;stroke-linejoin:miter;stroke-width:1.5;\"/>\n   </g>\n   <g id=\"patch_23\">\n    <path clip-path=\"url(#p0260a7ec77)\" d=\"M 223.213871 230.449564 \nL 229.301143 230.449564 \nL 229.301143 183.025023 \nL 223.213871 183.025023 \nz\n\" style=\"fill:#001c7f;stroke:#ffffff;stroke-linejoin:miter;stroke-width:1.5;\"/>\n   </g>\n   <g id=\"patch_24\">\n    <path clip-path=\"url(#p0260a7ec77)\" d=\"M 229.301143 230.449564 \nL 235.388416 230.449564 \nL 235.388416 186.459064 \nL 229.301143 186.459064 \nz\n\" style=\"fill:#001c7f;stroke:#ffffff;stroke-linejoin:miter;stroke-width:1.5;\"/>\n   </g>\n   <g id=\"patch_25\">\n    <path clip-path=\"url(#p0260a7ec77)\" d=\"M 235.388416 230.449564 \nL 241.475689 230.449564 \nL 241.475689 183.611852 \nL 235.388416 183.611852 \nz\n\" style=\"fill:#001c7f;stroke:#ffffff;stroke-linejoin:miter;stroke-width:1.5;\"/>\n   </g>\n   <g id=\"patch_26\">\n    <path clip-path=\"url(#p0260a7ec77)\" d=\"M 241.475689 230.449564 \nL 247.562962 230.449564 \nL 247.562962 181.78616 \nL 241.475689 181.78616 \nz\n\" style=\"fill:#001c7f;stroke:#ffffff;stroke-linejoin:miter;stroke-width:1.5;\"/>\n   </g>\n   <g id=\"patch_27\">\n    <path clip-path=\"url(#p0260a7ec77)\" d=\"M 247.562962 230.449564 \nL 253.650234 230.449564 \nL 253.650234 181.112392 \nL 247.562962 181.112392 \nz\n\" style=\"fill:#001c7f;stroke:#ffffff;stroke-linejoin:miter;stroke-width:1.5;\"/>\n   </g>\n   <g id=\"patch_28\">\n    <path clip-path=\"url(#p0260a7ec77)\" d=\"M 253.650234 230.449564 \nL 259.737507 230.449564 \nL 259.737507 176.961115 \nL 253.650234 176.961115 \nz\n\" style=\"fill:#001c7f;stroke:#ffffff;stroke-linejoin:miter;stroke-width:1.5;\"/>\n   </g>\n   <g id=\"patch_29\">\n    <path clip-path=\"url(#p0260a7ec77)\" d=\"M 259.737507 230.449564 \nL 265.82478 230.449564 \nL 265.82478 175.852658 \nL 259.737507 175.852658 \nz\n\" style=\"fill:#001c7f;stroke:#ffffff;stroke-linejoin:miter;stroke-width:1.5;\"/>\n   </g>\n   <g id=\"patch_30\">\n    <path clip-path=\"url(#p0260a7ec77)\" d=\"M 265.82478 230.449564 \nL 271.912053 230.449564 \nL 271.912053 175.135422 \nL 265.82478 175.135422 \nz\n\" style=\"fill:#001c7f;stroke:#ffffff;stroke-linejoin:miter;stroke-width:1.5;\"/>\n   </g>\n   <g id=\"patch_31\">\n    <path clip-path=\"url(#p0260a7ec77)\" d=\"M 271.912053 230.449564 \nL 277.999325 230.449564 \nL 277.999325 170.832004 \nL 271.912053 170.832004 \nz\n\" style=\"fill:#001c7f;stroke:#ffffff;stroke-linejoin:miter;stroke-width:1.5;\"/>\n   </g>\n   <g id=\"patch_32\">\n    <path clip-path=\"url(#p0260a7ec77)\" d=\"M 277.999325 230.449564 \nL 284.086598 230.449564 \nL 284.086598 168.245606 \nL 277.999325 168.245606 \nz\n\" style=\"fill:#001c7f;stroke:#ffffff;stroke-linejoin:miter;stroke-width:1.5;\"/>\n   </g>\n   <g id=\"patch_33\">\n    <path clip-path=\"url(#p0260a7ec77)\" d=\"M 284.086598 230.449564 \nL 290.173871 230.449564 \nL 290.173871 165.028909 \nL 284.086598 165.028909 \nz\n\" style=\"fill:#001c7f;stroke:#ffffff;stroke-linejoin:miter;stroke-width:1.5;\"/>\n   </g>\n   <g id=\"patch_34\">\n    <path clip-path=\"url(#p0260a7ec77)\" d=\"M 290.173871 230.449564 \nL 296.261143 230.449564 \nL 296.261143 161.11671 \nL 290.173871 161.11671 \nz\n\" style=\"fill:#001c7f;stroke:#ffffff;stroke-linejoin:miter;stroke-width:1.5;\"/>\n   </g>\n   <g id=\"patch_35\">\n    <path clip-path=\"url(#p0260a7ec77)\" d=\"M 296.261143 230.449564 \nL 302.348416 230.449564 \nL 302.348416 160.356005 \nL 296.261143 160.356005 \nz\n\" style=\"fill:#001c7f;stroke:#ffffff;stroke-linejoin:miter;stroke-width:1.5;\"/>\n   </g>\n   <g id=\"patch_36\">\n    <path clip-path=\"url(#p0260a7ec77)\" d=\"M 302.348416 230.449564 \nL 308.435689 230.449564 \nL 308.435689 164.941971 \nL 302.348416 164.941971 \nz\n\" style=\"fill:#001c7f;stroke:#ffffff;stroke-linejoin:miter;stroke-width:1.5;\"/>\n   </g>\n   <g id=\"patch_37\">\n    <path clip-path=\"url(#p0260a7ec77)\" d=\"M 308.435689 230.449564 \nL 314.522962 230.449564 \nL 314.522962 163.768312 \nL 308.435689 163.768312 \nz\n\" style=\"fill:#001c7f;stroke:#ffffff;stroke-linejoin:miter;stroke-width:1.5;\"/>\n   </g>\n   <g id=\"patch_38\">\n    <path clip-path=\"url(#p0260a7ec77)\" d=\"M 314.522962 230.449564 \nL 320.610234 230.449564 \nL 320.610234 169.745282 \nL 314.522962 169.745282 \nz\n\" style=\"fill:#001c7f;stroke:#ffffff;stroke-linejoin:miter;stroke-width:1.5;\"/>\n   </g>\n   <g id=\"patch_39\">\n    <path clip-path=\"url(#p0260a7ec77)\" d=\"M 320.610234 230.449564 \nL 326.697507 230.449564 \nL 326.697507 167.332759 \nL 320.610234 167.332759 \nz\n\" style=\"fill:#001c7f;stroke:#ffffff;stroke-linejoin:miter;stroke-width:1.5;\"/>\n   </g>\n   <g id=\"patch_40\">\n    <path clip-path=\"url(#p0260a7ec77)\" d=\"M 326.697507 230.449564 \nL 332.78478 230.449564 \nL 332.78478 173.135854 \nL 326.697507 173.135854 \nz\n\" style=\"fill:#001c7f;stroke:#ffffff;stroke-linejoin:miter;stroke-width:1.5;\"/>\n   </g>\n   <g id=\"patch_41\">\n    <path clip-path=\"url(#p0260a7ec77)\" d=\"M 332.78478 230.449564 \nL 338.872053 230.449564 \nL 338.872053 174.418186 \nL 332.78478 174.418186 \nz\n\" style=\"fill:#001c7f;stroke:#ffffff;stroke-linejoin:miter;stroke-width:1.5;\"/>\n   </g>\n   <g id=\"patch_42\">\n    <path clip-path=\"url(#p0260a7ec77)\" d=\"M 338.872053 230.449564 \nL 344.959325 230.449564 \nL 344.959325 175.635314 \nL 338.872053 175.635314 \nz\n\" style=\"fill:#001c7f;stroke:#ffffff;stroke-linejoin:miter;stroke-width:1.5;\"/>\n   </g>\n   <g id=\"patch_43\">\n    <path clip-path=\"url(#p0260a7ec77)\" d=\"M 344.959325 230.449564 \nL 351.046598 230.449564 \nL 351.046598 173.222792 \nL 344.959325 173.222792 \nz\n\" style=\"fill:#001c7f;stroke:#ffffff;stroke-linejoin:miter;stroke-width:1.5;\"/>\n   </g>\n   <g id=\"patch_44\">\n    <path clip-path=\"url(#p0260a7ec77)\" d=\"M 351.046598 230.449564 \nL 357.133871 230.449564 \nL 357.133871 172.157804 \nL 351.046598 172.157804 \nz\n\" style=\"fill:#001c7f;stroke:#ffffff;stroke-linejoin:miter;stroke-width:1.5;\"/>\n   </g>\n   <g id=\"patch_45\">\n    <path clip-path=\"url(#p0260a7ec77)\" d=\"M 357.133871 230.449564 \nL 363.221143 230.449564 \nL 363.221143 166.376444 \nL 357.133871 166.376444 \nz\n\" style=\"fill:#001c7f;stroke:#ffffff;stroke-linejoin:miter;stroke-width:1.5;\"/>\n   </g>\n   <g id=\"patch_46\">\n    <path clip-path=\"url(#p0260a7ec77)\" d=\"M 363.221143 230.449564 \nL 369.308416 230.449564 \nL 369.308416 158.856329 \nL 363.221143 158.856329 \nz\n\" style=\"fill:#001c7f;stroke:#ffffff;stroke-linejoin:miter;stroke-width:1.5;\"/>\n   </g>\n   <g id=\"patch_47\">\n    <path clip-path=\"url(#p0260a7ec77)\" d=\"M 369.308416 230.449564 \nL 375.395689 230.449564 \nL 375.395689 161.660071 \nL 369.308416 161.660071 \nz\n\" style=\"fill:#001c7f;stroke:#ffffff;stroke-linejoin:miter;stroke-width:1.5;\"/>\n   </g>\n   <g id=\"patch_48\">\n    <path clip-path=\"url(#p0260a7ec77)\" d=\"M 375.395689 230.449564 \nL 381.482962 230.449564 \nL 381.482962 169.310593 \nL 375.395689 169.310593 \nz\n\" style=\"fill:#001c7f;stroke:#ffffff;stroke-linejoin:miter;stroke-width:1.5;\"/>\n   </g>\n   <g id=\"patch_49\">\n    <path clip-path=\"url(#p0260a7ec77)\" d=\"M 381.482962 230.449564 \nL 387.570234 230.449564 \nL 387.570234 182.199114 \nL 381.482962 182.199114 \nz\n\" style=\"fill:#001c7f;stroke:#ffffff;stroke-linejoin:miter;stroke-width:1.5;\"/>\n   </g>\n   <g id=\"patch_50\">\n    <path clip-path=\"url(#p0260a7ec77)\" d=\"M 387.570234 230.449564 \nL 393.657507 230.449564 \nL 393.657507 196.804656 \nL 387.570234 196.804656 \nz\n\" style=\"fill:#001c7f;stroke:#ffffff;stroke-linejoin:miter;stroke-width:1.5;\"/>\n   </g>\n   <g id=\"patch_51\">\n    <path clip-path=\"url(#p0260a7ec77)\" d=\"M 393.657507 230.449564 \nL 399.74478 230.449564 \nL 399.74478 208.302173 \nL 393.657507 208.302173 \nz\n\" style=\"fill:#001c7f;stroke:#ffffff;stroke-linejoin:miter;stroke-width:1.5;\"/>\n   </g>\n   <g id=\"patch_52\">\n    <path clip-path=\"url(#p0260a7ec77)\" d=\"M 399.74478 230.449564 \nL 405.832053 230.449564 \nL 405.832053 219.734486 \nL 399.74478 219.734486 \nz\n\" style=\"fill:#001c7f;stroke:#ffffff;stroke-linejoin:miter;stroke-width:1.5;\"/>\n   </g>\n   <g id=\"patch_53\">\n    <path d=\"M 86.250234 230.449564 \nL 86.250234 13.009564 \n\" style=\"fill:none;stroke:#262626;stroke-linecap:square;stroke-linejoin:miter;stroke-width:1.875;\"/>\n   </g>\n   <g id=\"patch_54\">\n    <path d=\"M 421.050234 230.449564 \nL 421.050234 13.009564 \n\" style=\"fill:none;stroke:#262626;stroke-linecap:square;stroke-linejoin:miter;stroke-width:1.875;\"/>\n   </g>\n   <g id=\"patch_55\">\n    <path d=\"M 86.250234 230.449564 \nL 421.050234 230.449564 \n\" style=\"fill:none;stroke:#262626;stroke-linecap:square;stroke-linejoin:miter;stroke-width:1.875;\"/>\n   </g>\n   <g id=\"patch_56\">\n    <path d=\"M 86.250234 13.009564 \nL 421.050234 13.009564 \n\" style=\"fill:none;stroke:#262626;stroke-linecap:square;stroke-linejoin:miter;stroke-width:1.875;\"/>\n   </g>\n  </g>\n </g>\n <defs>\n  <clipPath id=\"p0260a7ec77\">\n   <rect height=\"217.44\" width=\"334.8\" x=\"86.250234\" y=\"13.009564\"/>\n  </clipPath>\n </defs>\n</svg>\n",
      "image/png": "[encoded data removed]"
     },
     "metadata": {}
    }
   ],
   "source": [
    "sns.set_context('talk')\n",
    "sns.set_style('white')\n",
    "sns.set_palette('dark')\n",
    "\n",
    "ax = corr_values.abs_correlation.hist(bins=50)\n",
    "\n",
    "ax.set(xlabel='Absolute Correlation', ylabel='Frequency');"
   ]
  },
  {
   "cell_type": "code",
   "execution_count": 15,
   "metadata": {},
   "outputs": [
    {
     "output_type": "execute_result",
     "data": {
      "text/plain": "                           feature1                    feature2  correlation  \\\n156894  fBodyBodyGyroJerkMag-mean()  fBodyBodyGyroJerkMag-sma()     1.000000   \n93902             tBodyAccMag-sma()        tGravityAccMag-sma()     1.000000   \n101139       tBodyAccJerkMag-mean()       tBodyAccJerkMag-sma()     1.000000   \n96706         tGravityAccMag-mean()        tGravityAccMag-sma()     1.000000   \n94257          tBodyAccMag-energy()     tGravityAccMag-energy()     1.000000   \n...                             ...                         ...          ...   \n22657          tGravityAcc-mean()-Y        angle(Y,gravityMean)    -0.993425   \n39225     tGravityAcc-arCoeff()-Z,3   tGravityAcc-arCoeff()-Z,4    -0.994267   \n38739     tGravityAcc-arCoeff()-Z,2   tGravityAcc-arCoeff()-Z,3    -0.994628   \n23176          tGravityAcc-mean()-Z        angle(Z,gravityMean)    -0.994764   \n38252     tGravityAcc-arCoeff()-Z,1   tGravityAcc-arCoeff()-Z,2    -0.995195   \n\n        abs_correlation  \n156894         1.000000  \n93902          1.000000  \n101139         1.000000  \n96706          1.000000  \n94257          1.000000  \n...                 ...  \n22657          0.993425  \n39225          0.994267  \n38739          0.994628  \n23176          0.994764  \n38252          0.995195  \n\n[22815 rows x 4 columns]",
      "text/html": "<div>\n<style scoped>\n    .dataframe tbody tr th:only-of-type {\n        vertical-align: middle;\n    }\n\n    .dataframe tbody tr th {\n        vertical-align: top;\n    }\n\n    .dataframe thead th {\n        text-align: right;\n    }\n</style>\n<table border=\"1\" class=\"dataframe\">\n  <thead>\n    <tr style=\"text-align: right;\">\n      <th></th>\n      <th>feature1</th>\n      <th>feature2</th>\n      <th>correlation</th>\n      <th>abs_correlation</th>\n    </tr>\n  </thead>\n  <tbody>\n    <tr>\n      <th>156894</th>\n      <td>fBodyBodyGyroJerkMag-mean()</td>\n      <td>fBodyBodyGyroJerkMag-sma()</td>\n      <td>1.000000</td>\n      <td>1.000000</td>\n    </tr>\n    <tr>\n      <th>93902</th>\n      <td>tBodyAccMag-sma()</td>\n      <td>tGravityAccMag-sma()</td>\n      <td>1.000000</td>\n      <td>1.000000</td>\n    </tr>\n    <tr>\n      <th>101139</th>\n      <td>tBodyAccJerkMag-mean()</td>\n      <td>tBodyAccJerkMag-sma()</td>\n      <td>1.000000</td>\n      <td>1.000000</td>\n    </tr>\n    <tr>\n      <th>96706</th>\n      <td>tGravityAccMag-mean()</td>\n      <td>tGravityAccMag-sma()</td>\n      <td>1.000000</td>\n      <td>1.000000</td>\n    </tr>\n    <tr>\n      <th>94257</th>\n      <td>tBodyAccMag-energy()</td>\n      <td>tGravityAccMag-energy()</td>\n      <td>1.000000</td>\n      <td>1.000000</td>\n    </tr>\n    <tr>\n      <th>...</th>\n      <td>...</td>\n      <td>...</td>\n      <td>...</td>\n      <td>...</td>\n    </tr>\n    <tr>\n      <th>22657</th>\n      <td>tGravityAcc-mean()-Y</td>\n      <td>angle(Y,gravityMean)</td>\n      <td>-0.993425</td>\n      <td>0.993425</td>\n    </tr>\n    <tr>\n      <th>39225</th>\n      <td>tGravityAcc-arCoeff()-Z,3</td>\n      <td>tGravityAcc-arCoeff()-Z,4</td>\n      <td>-0.994267</td>\n      <td>0.994267</td>\n    </tr>\n    <tr>\n      <th>38739</th>\n      <td>tGravityAcc-arCoeff()-Z,2</td>\n      <td>tGravityAcc-arCoeff()-Z,3</td>\n      <td>-0.994628</td>\n      <td>0.994628</td>\n    </tr>\n    <tr>\n      <th>23176</th>\n      <td>tGravityAcc-mean()-Z</td>\n      <td>angle(Z,gravityMean)</td>\n      <td>-0.994764</td>\n      <td>0.994764</td>\n    </tr>\n    <tr>\n      <th>38252</th>\n      <td>tGravityAcc-arCoeff()-Z,1</td>\n      <td>tGravityAcc-arCoeff()-Z,2</td>\n      <td>-0.995195</td>\n      <td>0.995195</td>\n    </tr>\n  </tbody>\n</table>\n<p>22815 rows × 4 columns</p>\n</div>"
     },
     "metadata": {},
     "execution_count": 15
    }
   ],
   "source": [
    "# The most highly correlated values\n",
    "corr_values.sort_values('correlation', ascending=False).query('abs_correlation>0.8')"
   ]
  },
  {
   "cell_type": "markdown",
   "metadata": {},
   "source": [
    "## Question 3\n",
    "\n",
    "* Split the data into train and test data sets. This can be done using any method, but consider using Scikit-learn's `StratifiedShuffleSplit` to maintain the same ratio of predictor classes.\n",
    "* Regardless of methods used to split the data, compare the ratio of classes in both the train and test splits.\n"
   ]
  },
  {
   "cell_type": "code",
   "execution_count": 16,
   "metadata": {
    "collapsed": true
   },
   "outputs": [],
   "source": [
    "from sklearn.model_selection import StratifiedShuffleSplit\n",
    "\n",
    "# Get the split indexes\n",
    "strat_shuf_split = StratifiedShuffleSplit(n_splits=1,test_size=0.3, random_state=42)\n",
    "\n",
    "train_idx, test_idx = next(strat_shuf_split.split(data[feature_cols], data.Activity))\n",
    "\n",
    "# Create the dataframes\n",
    "X_train = data.loc[train_idx, feature_cols]\n",
    "y_train = data.loc[train_idx, 'Activity']\n",
    "\n",
    "X_test  = data.loc[test_idx, feature_cols]\n",
    "y_test  = data.loc[test_idx, 'Activity']"
   ]
  },
  {
   "cell_type": "code",
   "execution_count": 17,
   "metadata": {},
   "outputs": [
    {
     "output_type": "execute_result",
     "data": {
      "text/plain": "0    0.188792\n2    0.185046\n1    0.172562\n3    0.167152\n5    0.149951\n4    0.136496\nName: Activity, dtype: float64"
     },
     "metadata": {},
     "execution_count": 17
    }
   ],
   "source": [
    "y_train.value_counts(normalize=True)"
   ]
  },
  {
   "cell_type": "code",
   "execution_count": 18,
   "metadata": {},
   "outputs": [
    {
     "output_type": "execute_result",
     "data": {
      "text/plain": "0    0.188673\n2    0.185113\n1    0.172492\n3    0.167314\n5    0.149838\n4    0.136570\nName: Activity, dtype: float64"
     },
     "metadata": {},
     "execution_count": 18
    }
   ],
   "source": [
    "y_test.value_counts(normalize=True)"
   ]
  },
  {
   "cell_type": "markdown",
   "metadata": {},
   "source": [
    "## Question 4\n",
    "\n",
    "* Fit a logistic regression model without any regularization using all of the features. Be sure to read the documentation about fitt ing a multi-class model so you understand the coefficient output. Store the model."
   ]
  },
  {
   "cell_type": "markdown",
   "metadata": {},
   "source": [
    "https://scikit-learn.org/stable/modules/generated/sklearn.linear_model.LogisticRegression.html# , link para consultar a documentação. "
   ]
  },
  {
   "cell_type": "code",
   "execution_count": 23,
   "metadata": {
    "collapsed": true
   },
   "outputs": [],
   "source": [
    "from sklearn.linear_model import LogisticRegression\n",
    "\n",
    "# Standard logistic regressio\n",
    "lr = LogisticRegression().fit(X_train, y_train)"
   ]
  },
  {
   "cell_type": "code",
   "execution_count": 71,
   "metadata": {},
   "outputs": [
    {
     "output_type": "execute_result",
     "data": {
      "text/plain": "{'C': 1.0,\n 'class_weight': None,\n 'dual': False,\n 'fit_intercept': True,\n 'intercept_scaling': 1,\n 'l1_ratio': None,\n 'max_iter': 100,\n 'multi_class': 'auto',\n 'n_jobs': None,\n 'penalty': 'l2',\n 'random_state': None,\n 'solver': 'lbfgs',\n 'tol': 0.0001,\n 'verbose': 0,\n 'warm_start': False}"
     },
     "metadata": {},
     "execution_count": 71
    }
   ],
   "source": [
    "lr.get_params()\n",
    "# parametros utlizizados, já usando multi class automatico, 100 iterações maximas etc.  ( pode usar função set p/ mudar)"
   ]
  },
  {
   "cell_type": "code",
   "execution_count": 64,
   "metadata": {
    "tags": []
   },
   "outputs": [
    {
     "output_type": "stream",
     "name": "stdout",
     "text": "0.9877930364821751\n"
    }
   ],
   "source": [
    "a = lr.predict(X_train)\n",
    "# print(X_train.head(1))\n",
    "# print(y_train[:5])\n",
    "b = lr.score(X_train,y_train)\n",
    "c= lr.get_params()\n",
    "print(b)\n"
   ]
  },
  {
   "cell_type": "markdown",
   "metadata": {},
   "source": [
    "Acho que entendi, loga acima em fit, ele já faz a regressão, uso predict com o grupo de teste, e comparo o score com o y_test tbm, e vejo se o score é proximo do que já sabiamos"
   ]
  },
  {
   "cell_type": "code",
   "execution_count": 69,
   "metadata": {
    "tags": []
   },
   "outputs": [
    {
     "output_type": "stream",
     "name": "stdout",
     "text": "[3 5 3 ... 1 1 5]\n7743    3\n969     5\n3175    3\n8907    1\n6368    0\n       ..\n9629    1\n2327    3\n8914    1\n8756    1\n1470    5\nName: Activity, Length: 3090, dtype: int64\n0.9802588996763754\n"
    }
   ],
   "source": [
    "a2 = lr.predict(X_test)\n",
    "print(a2)\n",
    "print(y_test)\n",
    "score = lr.score(X_test,y_test)\n",
    "print ( score )"
   ]
  },
  {
   "cell_type": "code",
   "execution_count": null,
   "metadata": {},
   "outputs": [],
   "source": [
    "## Question 5\n",
    "\n",
    "Calculate the following error metric: \n",
    "\n",
    "* accuracy \n",
    "\n",
    "Edit função score já retorna  acuracia com um valor entre 0 a 1. \n",
    "\n",
    "score(X, y[, sample_weight])\n",
    "Return the mean accuracy on the given test data and labels.\n"
   ]
  },
  {
   "cell_type": "code",
   "execution_count": null,
   "metadata": {
    "collapsed": true
   },
   "outputs": [],
   "source": [
    "\n",
    "b = lr.score(X_train,y_train)\n",
    "print(b)\n",
    "score = lr.score(X_test,y_test)\n",
    "print ( score )"
   ]
  }
 ],
 "metadata": {
  "kernelspec": {
   "display_name": "Python 3",
   "language": "python",
   "name": "python3"
  },
  "language_info": {
   "codemirror_mode": {
    "name": "ipython",
    "version": 3
   },
   "file_extension": ".py",
   "mimetype": "text/x-python",
   "name": "python",
   "nbconvert_exporter": "python",
   "pygments_lexer": "ipython3",
   "version": "3.6.9-final"
  }
 },
 "nbformat": 4,
 "nbformat_minor": 2
}