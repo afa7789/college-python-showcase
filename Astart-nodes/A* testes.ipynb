{
 "cells": [
  {
   "cell_type": "code",
   "execution_count": 1,
   "metadata": {},
   "outputs": [],
   "source": [
    "import json\n"
   ]
  },
  {
   "cell_type": "code",
   "execution_count": 2,
   "metadata": {},
   "outputs": [
    {
     "name": "stdout",
     "output_type": "stream",
     "text": [
      "{'Arad': {'nodes': {'Zerind': 75, 'Timisoara': 118, 'Sibiu': 140}, 'straight-line': 366}, 'Bucharest': {'nodes': {'Fagaras': 211, 'Pitesti': 101, 'Giurgiu': 90, 'Urziceni': 85}, 'straight-line': 0}, 'Craiova': {'nodes': {'Dobreta': 120, 'Rimnicu Vilcea': 146, 'Pitesti': 139}, 'straight-line': 160}, 'Dobreta': {'nodes': {'Mehadia': 75, 'Craiova': 120}, 'straight-line': 242}, 'Eforie': {'nodes': {'Hirsova': 86}, 'straight-line': 161}, 'Fagaras': {'nodes': {'Sibiu': 99, 'Bucharest': 211}, 'straight-line': 176}, 'Giurgiu': {'nodes': {'Bucharest': 90}, 'straight-line': 77}, 'Hirsova': {'nodes': {'Urziceni': 98, 'Eforie': 86}, 'straight-line': 151}, 'Iasi': {'nodes': {'Neamt': 87, 'Vaslui': 92}, 'straight-line': 226}, 'Lugoj': {'nodes': {'Timisoara': 111, 'Mehadia': 70}, 'straight-line': 244}, 'Mehadia': {'nodes': {'Dobreta': 75, 'Lugoj': 70}, 'straight-line': 241}, 'Neamt': {'nodes': {'Iasi': 87}, 'straight-line': 234}, 'Oradea': {'nodes': {'Zerind': 71, 'Sibiu': 151}, 'straight-line': 380}, 'Pitesti': {'nodes': {'Rimnicu Vilcea': 97, 'Bucharest': 101, 'Craiova': 138}, 'straight-line': 101}, 'Rimnicu Vilcea': {'nodes': {'Pitesti': 97, 'Sibiu': 80, 'Craiova': 146}, 'straight-line': 193}, 'Sibiu': {'nodes': {'Arad': 140, 'Fagaras': 99, 'Rimnicu Vilcea': 80, 'Oradea': 151}, 'straight-line': 253}, 'Timisoara': {'nodes': {'Arad': 118, 'Lugoj': 111}, 'straight-line': 329}, 'Urziceni': {'nodes': {'Bucharest': 85, 'Hirsova': 98, 'Vaslui': 142}, 'straight-line': 80}, 'Vaslui': {'nodes': {'Iasi': 92, 'Urziceni': 142}, 'straight-line': 199}, 'Zerind': {'nodes': {'Arad': 75, 'Oredea': 71}, 'straight-line': 374}}\n",
      "Arad\n",
      "Bucharest\n",
      "Craiova\n",
      "Dobreta\n",
      "Eforie\n",
      "Fagaras\n",
      "Giurgiu\n",
      "Hirsova\n",
      "Iasi\n",
      "Lugoj\n",
      "Mehadia\n",
      "Neamt\n",
      "Oradea\n",
      "Pitesti\n",
      "Rimnicu Vilcea\n",
      "Sibiu\n",
      "Timisoara\n",
      "Urziceni\n",
      "Vaslui\n",
      "Zerind\n"
     ]
    }
   ],
   "source": [
    "with open('estrutura.json') as json_file:\n",
    "    data = json.load(json_file)\n",
    "    print (data)\n",
    "    for p in data:\n",
    "        print (p)"
   ]
  },
  {
   "cell_type": "code",
   "execution_count": 3,
   "metadata": {},
   "outputs": [],
   "source": [
    "def readHFromJson(String):\n",
    "       return list(data[String].items())[1][1]"
   ]
  },
  {
   "cell_type": "code",
   "execution_count": 4,
   "metadata": {},
   "outputs": [
    {
     "data": {
      "text/plain": [
       "[('Zerind', 75), ('Timisoara', 118), ('Sibiu', 140)]"
      ]
     },
     "execution_count": 4,
     "metadata": {},
     "output_type": "execute_result"
    }
   ],
   "source": [
    "String='Arad'\n",
    "listaNomes=[]\n",
    "for i in data[String]['nodes'].items():\n",
    "    listaNomes.append(i)\n",
    "listaNomes\n"
   ]
  },
  {
   "cell_type": "code",
   "execution_count": 5,
   "metadata": {},
   "outputs": [
    {
     "data": {
      "text/plain": [
       "['Arad',\n",
       " 'Bucharest',\n",
       " 'Craiova',\n",
       " 'Dobreta',\n",
       " 'Eforie',\n",
       " 'Fagaras',\n",
       " 'Giurgiu',\n",
       " 'Hirsova',\n",
       " 'Iasi',\n",
       " 'Lugoj',\n",
       " 'Mehadia',\n",
       " 'Neamt',\n",
       " 'Oradea',\n",
       " 'Pitesti',\n",
       " 'Rimnicu Vilcea',\n",
       " 'Sibiu',\n",
       " 'Timisoara',\n",
       " 'Urziceni',\n",
       " 'Vaslui',\n",
       " 'Zerind']"
      ]
     },
     "execution_count": 5,
     "metadata": {},
     "output_type": "execute_result"
    }
   ],
   "source": [
    "list(data.keys())"
   ]
  },
  {
   "cell_type": "code",
   "execution_count": 6,
   "metadata": {},
   "outputs": [
    {
     "data": {
      "text/plain": [
       "366"
      ]
     },
     "execution_count": 6,
     "metadata": {},
     "output_type": "execute_result"
    }
   ],
   "source": [
    "list(list(data.values())[0].items())[1][1]"
   ]
  },
  {
   "cell_type": "code",
   "execution_count": 7,
   "metadata": {},
   "outputs": [
    {
     "data": {
      "text/plain": [
       "[('nodes', {'Sibiu': 140, 'Timisoara': 118, 'Zerind': 75}),\n",
       " ('straight-line', 366)]"
      ]
     },
     "execution_count": 7,
     "metadata": {},
     "output_type": "execute_result"
    }
   ],
   "source": [
    "list(data['Arad'].items())"
   ]
  },
  {
   "cell_type": "code",
   "execution_count": 8,
   "metadata": {},
   "outputs": [
    {
     "data": {
      "text/plain": [
       "('Zerind', 75)"
      ]
     },
     "execution_count": 8,
     "metadata": {},
     "output_type": "execute_result"
    }
   ],
   "source": [
    "tup=list(data[String]['nodes'].items())[0]\n",
    "tup"
   ]
  },
  {
   "cell_type": "code",
   "execution_count": 9,
   "metadata": {},
   "outputs": [
    {
     "data": {
      "text/plain": [
       "366"
      ]
     },
     "execution_count": 9,
     "metadata": {},
     "output_type": "execute_result"
    }
   ],
   "source": [
    "readHFromJson(String)"
   ]
  },
  {
   "cell_type": "code",
   "execution_count": 10,
   "metadata": {},
   "outputs": [
    {
     "data": {
      "text/plain": [
       "[('Zerind', 75), ('Timisoara', 118), ('Sibiu', 140)]"
      ]
     },
     "execution_count": 10,
     "metadata": {},
     "output_type": "execute_result"
    }
   ],
   "source": [
    "listaNomes"
   ]
  },
  {
   "cell_type": "code",
   "execution_count": 11,
   "metadata": {},
   "outputs": [
    {
     "name": "stdout",
     "output_type": "stream",
     "text": [
      "Zerind g: 75\n",
      "Timisoara g: 118\n",
      "Sibiu g: 140\n"
     ]
    }
   ],
   "source": [
    "for kidinfo in listaNomes:\n",
    "    print (str(kidinfo[0]) + \" g: \" + str(kidinfo[1]))"
   ]
  },
  {
   "cell_type": "code",
   "execution_count": 12,
   "metadata": {},
   "outputs": [],
   "source": [
    "import json\n",
    "with open('estrutura.json') as json_file:\n",
    "    data = json.load(json_file)\n",
    "\n",
    "def nodeMenor(lista,nodeAux):\n",
    "    nodeAux.Copia(lista[0])\n",
    "    for node in lista:\n",
    "        #print(node.name + \": \"+ str(node.f) +\" \" + nodeAux.name + \":\"+str(nodeAux.f))\n",
    "        if node.f <= nodeAux.f:\n",
    "            nodeAux = node\n",
    "    return nodeAux\n",
    "\n",
    "def nomesListaNodos(lista):\n",
    "    retorno = []\n",
    "    for node in lista:\n",
    "        retorno.append(node.name)\n",
    "    return retorno\n",
    "\n",
    "def readHFromJson(String):\n",
    "       return list(data[String].items())[1][1]\n",
    "\n",
    "\n",
    "def getChildrenNameG(String):\n",
    "    listaRetorno=[]\n",
    "    for i in data[String]['nodes'].items():\n",
    "        listaRetorno.append(i)\n",
    "    return listaRetorno\n"
   ]
  },
  {
   "cell_type": "code",
   "execution_count": 13,
   "metadata": {},
   "outputs": [],
   "source": [
    "\n",
    "class Node():\n",
    "    def __init__(self,String,Parent):\n",
    "        self.name=String\n",
    "        self.parent=Parent\n",
    "        self.h=readHFromJson(self.name)\n",
    "        self.g=0\n",
    "        self.f=0\n",
    "        self.children=getChildrenNameG(self.name)\n",
    "\n",
    "    def Copia(self,Node):\n",
    "        self.name=Node.name\n",
    "        self.parent=Node.parent\n",
    "        self.g=Node.g\n",
    "        self.h=Node.h\n",
    "        self.f=Node.f\n",
    "        self.children=Node.children\n",
    "\n",
    "    def genChildren(self):\n",
    "        listaRetorno =[]\n",
    "        for kidInfo in self.children:\n",
    "            newNodo = Node(kidInfo[0],self)\n",
    "            newNodo.g =  kidInfo[1] + self.g\n",
    "            newNodo.f = newNodo.h + newNodo.g\n",
    "            listaRetorno.append(newNodo)\n",
    "        return listaRetorno"
   ]
  },
  {
   "cell_type": "code",
   "execution_count": 14,
   "metadata": {},
   "outputs": [],
   "source": [
    "def AStar(start,end):\n",
    "    start_node= Node(start,None)\n",
    "    end_node= Node(end,None)\n",
    "    nodeAux= Node(\"Bucharest\",None)\n",
    "    nodeAux.f= 99999999\n",
    "    open_list=[]\n",
    "    closed_list=[]\n",
    "    open_list.append(start_node)\n",
    "    while len(open_list)>0:\n",
    "        print(\"lista aberta: \" + str(nomesListaNodos(open_list)) )\n",
    "        print(\"lista fechada: \" + str(nomesListaNodos(closed_list)) )\n",
    "        current_node = nodeMenor(open_list,nodeAux)\n",
    "        print(\"\\n current node: \" +current_node.name +\"\\n\")\n",
    "        open_list.remove(current_node)\n",
    "        closed_list.append(current_node)\n",
    "        print(\"lista aberta: \" + str(nomesListaNodos(open_list)) )\n",
    "        print(\"lista fechada: \" + str(nomesListaNodos(closed_list)) )\n",
    "        if current_node.name == end_node.name:\n",
    "            print('achou')\n",
    "            listaPath=[]\n",
    "            while current_node != None:\n",
    "                print(current_node.name)\n",
    "                listaPath.append(current_node)\n",
    "                current_node=current_node.parent\n",
    "            return listaPath\n",
    "        kids = current_node.genChildren()\n",
    "        print(\"kids\" + str(nomesListaNodos(kids)))\n",
    "        for kid in kids:\n",
    "            if kid.name in nomesListaNodos(closed_list):\n",
    "                a=1\n",
    "            else:\n",
    "                if kid in nomesListaNodos(open_list):\n",
    "                    print(kid.name)\n",
    "                    for node in open_list:\n",
    "                        if node.name == kid.name:\n",
    "                            print(node.name+\" == \"+kid.name)\n",
    "                            if kid.g < node.g:\n",
    "                                node.Copia(kid)\n",
    "                else:\n",
    "                    open_list.append(kid)"
   ]
  },
  {
   "cell_type": "code",
   "execution_count": 15,
   "metadata": {},
   "outputs": [
    {
     "name": "stdout",
     "output_type": "stream",
     "text": [
      "lista aberta: ['Lugoj']\n",
      "lista fechada: []\n",
      "\n",
      " current node: Lugoj\n",
      "\n",
      "lista aberta: []\n",
      "lista fechada: ['Lugoj']\n",
      "kids['Timisoara', 'Mehadia']\n",
      "lista aberta: ['Timisoara', 'Mehadia']\n",
      "lista fechada: ['Lugoj']\n",
      "\n",
      " current node: Mehadia\n",
      "\n",
      "lista aberta: ['Timisoara']\n",
      "lista fechada: ['Lugoj', 'Mehadia']\n",
      "kids['Dobreta', 'Lugoj']\n",
      "lista aberta: ['Timisoara', 'Dobreta']\n",
      "lista fechada: ['Lugoj', 'Mehadia']\n",
      "\n",
      " current node: Dobreta\n",
      "\n",
      "lista aberta: ['Timisoara']\n",
      "lista fechada: ['Lugoj', 'Mehadia', 'Dobreta']\n",
      "kids['Mehadia', 'Craiova']\n",
      "lista aberta: ['Timisoara', 'Craiova']\n",
      "lista fechada: ['Lugoj', 'Mehadia', 'Dobreta']\n",
      "\n",
      " current node: Craiova\n",
      "\n",
      "lista aberta: ['Timisoara']\n",
      "lista fechada: ['Lugoj', 'Mehadia', 'Dobreta', 'Craiova']\n",
      "kids['Dobreta', 'Rimnicu Vilcea', 'Pitesti']\n",
      "lista aberta: ['Timisoara', 'Rimnicu Vilcea', 'Pitesti']\n",
      "lista fechada: ['Lugoj', 'Mehadia', 'Dobreta', 'Craiova']\n",
      "\n",
      " current node: Timisoara\n",
      "\n",
      "lista aberta: ['Rimnicu Vilcea', 'Pitesti']\n",
      "lista fechada: ['Lugoj', 'Mehadia', 'Dobreta', 'Craiova', 'Timisoara']\n",
      "kids['Arad', 'Lugoj']\n",
      "lista aberta: ['Rimnicu Vilcea', 'Pitesti', 'Arad']\n",
      "lista fechada: ['Lugoj', 'Mehadia', 'Dobreta', 'Craiova', 'Timisoara']\n",
      "\n",
      " current node: Pitesti\n",
      "\n",
      "lista aberta: ['Rimnicu Vilcea', 'Arad']\n",
      "lista fechada: ['Lugoj', 'Mehadia', 'Dobreta', 'Craiova', 'Timisoara', 'Pitesti']\n",
      "kids['Rimnicu Vilcea', 'Bucharest', 'Craiova']\n",
      "lista aberta: ['Rimnicu Vilcea', 'Arad', 'Rimnicu Vilcea', 'Bucharest']\n",
      "lista fechada: ['Lugoj', 'Mehadia', 'Dobreta', 'Craiova', 'Timisoara', 'Pitesti']\n",
      "\n",
      " current node: Bucharest\n",
      "\n",
      "lista aberta: ['Rimnicu Vilcea', 'Arad', 'Rimnicu Vilcea']\n",
      "lista fechada: ['Lugoj', 'Mehadia', 'Dobreta', 'Craiova', 'Timisoara', 'Pitesti', 'Bucharest']\n",
      "achou\n",
      "Bucharest\n",
      "Pitesti\n",
      "Craiova\n",
      "Dobreta\n",
      "Mehadia\n",
      "Lugoj\n"
     ]
    }
   ],
   "source": [
    "inicio=\"Lugoj\"\n",
    "final=\"Bucharest\"\n",
    "a=AStar(inicio,final)"
   ]
  },
  {
   "cell_type": "code",
   "execution_count": 16,
   "metadata": {},
   "outputs": [
    {
     "data": {
      "text/plain": [
       "[('Timisoara', 111), ('Mehadia', 70)]"
      ]
     },
     "execution_count": 16,
     "metadata": {},
     "output_type": "execute_result"
    }
   ],
   "source": [
    "Node(\"Lugoj\",None).children"
   ]
  },
  {
   "cell_type": "code",
   "execution_count": 17,
   "metadata": {},
   "outputs": [
    {
     "data": {
      "text/plain": [
       "{'nodes': {'Arad': 118, 'Lugoj': 111}, 'straight-line': 329}"
      ]
     },
     "execution_count": 17,
     "metadata": {},
     "output_type": "execute_result"
    }
   ],
   "source": [
    "data['Timisoara']"
   ]
  },
  {
   "cell_type": "code",
   "execution_count": 18,
   "metadata": {},
   "outputs": [
    {
     "name": "stdout",
     "output_type": "stream",
     "text": [
      "Bucharest g:505 h:0 f:505\n",
      "Pitesti g:404 h:101 f:505\n",
      "Craiova g:265 h:160 f:425\n",
      "Dobreta g:145 h:242 f:387\n",
      "Mehadia g:70 h:241 f:311\n",
      "Lugoj g:0 h:244 f:0\n"
     ]
    }
   ],
   "source": [
    "for i in a:\n",
    "    print(i.name+\" g:\"+str(i.g)+\" h:\"+str(i.h) + \" f:\" +str(i.f) )"
   ]
  },
  {
   "cell_type": "code",
   "execution_count": 19,
   "metadata": {},
   "outputs": [
    {
     "data": {
      "text/plain": [
       "range(6, 0, -1)"
      ]
     },
     "execution_count": 19,
     "metadata": {},
     "output_type": "execute_result"
    }
   ],
   "source": [
    "range(len(a)-1,0,-1)\n"
   ]
  },
  {
   "cell_type": "code",
   "execution_count": 25,
   "metadata": {},
   "outputs": [
    {
     "name": "stdout",
     "output_type": "stream",
     "text": [
      "Lugoj g:0 h:244 f:0\n",
      "Mehadia g:70 h:241 f:311\n",
      "Dobreta g:145 h:242 f:387\n",
      "Craiova g:265 h:160 f:425\n",
      "Pitesti g:404 h:101 f:505\n",
      "Bucharest g:505 h:0 f:505\n"
     ]
    }
   ],
   "source": [
    "for i in range(len(a),0,-1):\n",
    "    print(a[i-1].name+\" g:\"+str(a[i-1].g)+\" h:\"+str(a[i-1].h) + \" f:\" +str(a[i-1].f) )"
   ]
  },
  {
   "cell_type": "code",
   "execution_count": null,
   "metadata": {},
   "outputs": [],
   "source": []
  }
 ],
 "metadata": {
  "kernelspec": {
   "display_name": "Python 3",
   "language": "python",
   "name": "python3"
  },
  "language_info": {
   "codemirror_mode": {
    "name": "ipython",
    "version": 3
   },
   "file_extension": ".py",
   "mimetype": "text/x-python",
   "name": "python",
   "nbconvert_exporter": "python",
   "pygments_lexer": "ipython3",
   "version": "3.6.7"
  }
 },
 "nbformat": 4,
 "nbformat_minor": 2
}
