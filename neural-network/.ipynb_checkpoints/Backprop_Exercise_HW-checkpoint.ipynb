{
 "cells": [
  {
   "cell_type": "markdown",
   "metadata": {},
   "source": [
    "## Backpropagation Exercise\n",
    "In this exercise we will use backpropagation to train a multi-layer perceptron (with a single hidden layer).  We will experiment with different patterns and see how quickly or slowly the weights converge.  We will see the impact and interplay of different parameters such as learning rate, number of iterations, and number of data points."
   ]
  },
  {
   "cell_type": "code",
   "execution_count": 1,
   "metadata": {},
   "outputs": [],
   "source": [
    "#Preliminaries\n",
    "from __future__ import division, print_function\n",
    "import numpy as np\n",
    "import matplotlib.pyplot as plt\n",
    "%matplotlib inline"
   ]
  },
  {
   "cell_type": "markdown",
   "metadata": {},
   "source": [
    "Fill out the code below so that it creates a multi-layer perceptron with a single hidden layer (with 4 nodes) and trains it via back-propagation.  Specifically your code should:\n",
    "\n",
    "1. Initialize the weights to random values between -1 and 1\n",
    "1. Perform the feed-forward computation\n",
    "1. Compute the loss function\n",
    "1. Calculate the gradients for all the weights via back-propagation\n",
    "1. Update the weight matrices (using a learning_rate parameter)\n",
    "1. Execute steps 2-5 for a fixed number of iterations\n",
    "1. Plot the accuracies and log loss and observe how they change over time\n",
    "\n",
    "\n",
    "Once your code is running, try it for the different patterns below.\n",
    "\n",
    "- Which patterns was the neural network able to learn quickly and which took longer?\n",
    "- What learning rates and numbers of iterations worked well?\n",
    "- If you have time, try varying the size of the hidden layer and experiment with different activation functions (e.g. ReLu)"
   ]
  },
  {
   "cell_type": "code",
   "execution_count": 5,
   "metadata": {},
   "outputs": [
    {
     "name": "stdout",
     "output_type": "stream",
     "text": [
      "shape of x_mat_full is (500, 3)\n",
      "shape of y is (500,)\n"
     ]
    },
    {
     "data": {
      "image/png": "[encoded data removed]",
      "text/plain": [
       "<Figure size 360x360 with 1 Axes>"
      ]
     },
     "metadata": {
      "needs_background": "light"
     },
     "output_type": "display_data"
    }
   ],
   "source": [
    "## This code below generates two x values and a y value according to different patterns\n",
    "## It also creates a \"bias\" term (a vector of 1s)\n",
    "## The goal is then to learn the mapping from x to y using a neural network via back-propagation\n",
    "\n",
    "num_obs = 500\n",
    "x_mat_1 = np.random.uniform(-1,1,size = (num_obs,2))\n",
    "x_mat_bias = np.ones((num_obs,1))\n",
    "x_mat_full = np.concatenate( (x_mat_1,x_mat_bias), axis=1)\n",
    "\n",
    "# PICK ONE PATTERN BELOW and comment out the rest.\n",
    "\n",
    "# # Circle pattern\n",
    "y = (np.sqrt(x_mat_full[:,0]**2 + x_mat_full[:,1]**2)<.75).astype(int)\n",
    "\n",
    "# # Diamond Pattern\n",
    "# y = ((np.abs(x_mat_full[:,0]) + np.abs(x_mat_full[:,1]))<1).astype(int)\n",
    "\n",
    "# # Centered square\n",
    "# y = ((np.maximum(np.abs(x_mat_full[:,0]), np.abs(x_mat_full[:,1])))<.5).astype(int)\n",
    "\n",
    "# # Thick Right Angle pattern\n",
    "# y = (((np.maximum((x_mat_full[:,0]), (x_mat_full[:,1])))<.5) & ((np.maximum((x_mat_full[:,0]), (x_mat_full[:,1])))>-.5)).astype(int)\n",
    "\n",
    "# # Thin right angle pattern\n",
    "# y = (((np.maximum((x_mat_full[:,0]), (x_mat_full[:,1])))<.5) & ((np.maximum((x_mat_full[:,0]), (x_mat_full[:,1])))>0)).astype(int)\n",
    "\n",
    "\n",
    "print('shape of x_mat_full is {}'.format(x_mat_full.shape))\n",
    "print('shape of y is {}'.format(y.shape))\n",
    "\n",
    "fig, ax = plt.subplots(figsize=(5, 5))\n",
    "ax.plot(x_mat_full[y==1, 0],x_mat_full[y==1, 1], 'ro', label='class 1', color='darkslateblue')\n",
    "ax.plot(x_mat_full[y==0, 0],x_mat_full[y==0, 1], 'bx', label='class 0', color='chocolate')\n",
    "# ax.grid(True)\n",
    "ax.legend(loc='best')\n",
    "ax.axis('equal');"
   ]
  },
  {
   "cell_type": "markdown",
   "metadata": {},
   "source": [
    "Here are some helper functions"
   ]
  },
  {
   "cell_type": "code",
   "execution_count": 47,
   "metadata": {},
   "outputs": [],
   "source": [
    "def sigmoid(x):\n",
    "    \"\"\"\n",
    "    Sigmoid function\n",
    "    \"\"\"\n",
    "    return 1.0 / (1.0 + np.exp(-x))\n",
    "\n",
    "\n",
    "def loss_fn(y_true, y_pred, eps=1e-16):\n",
    "    \"\"\"\n",
    "    Loss function we would like to optimize (minimize)\n",
    "    We are using Logarithmic Loss\n",
    "    http://scikit-learn.org/stable/modules/model_evaluation.html#log-loss\n",
    "    \"\"\"\n",
    "    y_pred = np.maximum(y_pred,eps)\n",
    "    y_pred = np.minimum(y_pred,(1-eps))\n",
    "    return -(np.sum(y_true * np.log(y_pred)) + np.sum((1-y_true)*np.log(1-y_pred)))/len(y_true)\n",
    "\n",
    "\n",
    "def forward_pass(W1, W2):\n",
    "    \"\"\"\n",
    "    Does a forward computation of the neural network\n",
    "    Takes the input `x_mat` (global variable) and produces the output `y_pred`\n",
    "    Also produces the gradient of the log loss function\n",
    "    \"\"\"\n",
    "    global x_mat\n",
    "    global y\n",
    "    global num_\n",
    "    # First, compute the new predictions `y_pred`\n",
    "    z_2 = np.dot(x_mat, W_1)\n",
    "    a_2 = sigmoid(z_2)\n",
    "    z_3 = np.dot(a_2, W_2)\n",
    "    y_pred = sigmoid(z_3).reshape((len(x_mat),))\n",
    "    # Now compute the gradient\n",
    "    J_z_3_grad = -y + y_pred\n",
    "    J_W_2_grad = np.dot(J_z_3_grad, a_2)\n",
    "    a_2_z_2_grad = sigmoid(z_2)*(1-sigmoid(z_2))\n",
    "    J_W_1_grad = (np.dot((J_z_3_grad).reshape(-1,1), W_2.reshape(-1,1).T)*a_2_z_2_grad).T.dot(x_mat).T\n",
    "    gradient = (J_W_1_grad, J_W_2_grad)\n",
    "    \n",
    "    # return\n",
    "    return y_pred, gradient\n",
    "\n",
    "\n",
    "def plot_loss_accuracy(loss_vals, accuracies):\n",
    "    fig = plt.figure(figsize=(16, 8))\n",
    "    fig.suptitle('Log Loss and Accuracy over iterations')\n",
    "    \n",
    "    ax = fig.add_subplot(1, 2, 1)\n",
    "    ax.plot(loss_vals)\n",
    "    ax.grid(True)\n",
    "    ax.set(xlabel='iterations', title='Log Loss')\n",
    "    \n",
    "    ax = fig.add_subplot(1, 2, 2)\n",
    "    ax.plot(accuracies)\n",
    "    ax.grid(True)\n",
    "    ax.set(xlabel='iterations', title='Accuracy');"
   ]
  },
  {
   "cell_type": "markdown",
   "metadata": {
    "collapsed": true
   },
   "source": [
    "Complete the pseudocode below"
   ]
  },
  {
   "cell_type": "code",
   "execution_count": 59,
   "metadata": {},
   "outputs": [
    {
     "name": "stdout",
     "output_type": "stream",
     "text": [
      "[[  1.75445362   1.01732851  -0.32698261  -0.3172482   -0.6270081 ]\n",
      " [ -1.36870872  -0.89374355   0.40076854  -0.64971203  -1.36213142]\n",
      " [-21.97038987 -17.6091085    4.03872896 -15.02220789 -12.25272178]]\n",
      "\n",
      "----------------\n",
      "[-43.74484084 -78.89612535 -84.18167482 -55.01229608 -77.93186364]\n",
      "\n",
      "----------------\n",
      "\n",
      "----------------\n",
      "[[ 0.40588607  0.56084844  0.26743286  0.08078761 -0.13657067]\n",
      " [-0.64805464 -0.63631519 -0.42101043 -0.52498723 -0.89818643]\n",
      " [-5.2374997  -5.55549737 -2.64123466 -4.72165549 -4.81742593]]\n",
      "\n",
      "----------------\n",
      "[ -7.54067692 -12.35568767 -12.17306629  -8.76877036 -11.93099856]\n",
      "\n",
      "----------------\n",
      "\n",
      "----------------\n",
      "[[ 0.28088514  0.44169455  0.22560553  0.08093163 -0.10490089]\n",
      " [-0.49912838 -0.49089956 -0.3554473  -0.4184958  -0.70806137]\n",
      " [-3.8575896  -4.09008687 -2.13502901 -3.53604893 -3.60320143]]\n",
      "\n",
      "----------------\n",
      "[-5.36739412 -8.67538534 -8.46395582 -6.19625229 -8.35912281]\n",
      "\n",
      "----------------\n",
      "\n",
      "----------------\n",
      "[[ 0.21119929  0.36506384  0.19422315  0.07569655 -0.08766339]\n",
      " [-0.40660956 -0.39856978 -0.3052538  -0.34816295 -0.58545769]\n",
      " [-3.07127056 -3.24449404 -1.78863663 -2.84326751 -2.88803718]]\n",
      "\n",
      "----------------\n",
      "[-4.18163724 -6.69502118 -6.49200643 -4.80629962 -6.44318243]\n",
      "\n",
      "----------------\n",
      "\n",
      "----------------\n",
      "[[ 0.16675707  0.31127239  0.1704015   0.06986133 -0.07644391]\n",
      " [-0.3430168  -0.33463828 -0.26691242 -0.29808212 -0.49930498]\n",
      " [-2.55692031 -2.68909262 -1.53906926 -2.38314395 -2.41207843]]\n",
      "\n",
      "----------------\n",
      "[-3.42776825 -5.44821416 -5.26039488 -3.92807178 -5.23933001]\n",
      "\n",
      "----------------\n",
      "\n",
      "----------------\n",
      "[[ 0.1360594   0.27131113  0.1517991   0.06444059 -0.06837963]\n",
      " [-0.29646118 -0.28774304 -0.2369162  -0.26053233 -0.43526533]\n",
      " [-2.19232    -2.29508102 -1.35093918 -2.05351745 -2.071162  ]]\n",
      "\n",
      "----------------\n",
      "[-2.90435079 -4.58906333 -4.41666009 -3.32097622 -4.41091799]\n",
      "\n",
      "----------------\n",
      "\n",
      "----------------\n",
      "[[ 0.11368104  0.24040507  0.13688873  0.05962798 -0.06220982]\n",
      " [-0.2608504  -0.25189069 -0.21287461 -0.23129963 -0.38571705]\n",
      " [-1.91965059 -2.00064126 -1.20402496 -1.80504896 -1.81447349]]\n",
      "\n",
      "----------------\n",
      "[-2.51914679 -3.96065893 -3.8023094  -2.87565912 -3.80560669]\n",
      "\n",
      "----------------\n",
      "\n",
      "----------------\n",
      "[[ 0.09671474  0.21576832  0.12467249  0.05540538 -0.05728445]\n",
      " [-0.23271104 -0.22360995 -0.19319631 -0.20788063 -0.34620726]\n",
      " [-1.70771374 -1.77213977 -1.08607454 -1.61072279 -1.61403743]]\n",
      "\n",
      "----------------\n",
      "[-2.22359604 -3.48100474 -3.33507515 -2.53486714 -3.34393321]\n",
      "\n",
      "----------------\n",
      "\n",
      "----------------\n",
      "[[ 0.08346013  0.19565926  0.114479    0.05170268 -0.05323022]\n",
      " [-0.20990832 -0.20074767 -0.1768003  -0.18869064 -0.31395004]\n",
      " [-1.53809594 -1.589627   -0.98925544 -1.45441574 -1.45310702]]\n",
      "\n",
      "----------------\n",
      "[-1.98959276 -3.10293366 -2.96788931 -2.26560645 -2.98025286]\n",
      "\n",
      "----------------\n",
      "\n",
      "----------------\n",
      "[[ 0.07285649  0.17893037  0.1058421   0.04844426 -0.04981524]\n",
      " [-0.1910542  -0.1818962  -0.16293192 -0.17267578 -0.28710894]\n",
      " [-1.39919132 -1.44049136 -0.90833076 -1.32587536 -1.32101585]]\n",
      "\n",
      "----------------\n",
      "[-1.79970444 -2.79734319 -2.67184018 -2.04748447 -2.6864348 ]\n",
      "\n",
      "----------------\n",
      "\n",
      "----------------\n"
     ]
    },
    {
     "data": {
      "image/png": "[encoded data removed]",
      "text/plain": [
       "<Figure size 1152x576 with 2 Axes>"
      ]
     },
     "metadata": {
      "needs_background": "light"
     },
     "output_type": "display_data"
    }
   ],
   "source": [
    "#### Initialize the network parameters\n",
    "\n",
    "np.random.seed(1241)\n",
    "\n",
    "W_1 = 1-2*np.random.rand(3,5)\n",
    "W_2 = 1-2*np.random.rand(5)\n",
    "num_iter = 10\n",
    "learning_rate = 0.01\n",
    "x_mat = x_mat_full\n",
    "loss_vals = []\n",
    "acc = []\n",
    "\n",
    "\n",
    "loss_vals, accuracies = [], []\n",
    "for i in range(num_iter):\n",
    "    ### Do a forward computation, and get the gradient\n",
    "    y_pred, grad = forward_pass(W_1, W_2)\n",
    "    \n",
    "    print(grad[0])\n",
    "    print(\"\\n----------------\")\n",
    "    print(grad[1])\n",
    "    print(\"\\n----------------\")\n",
    "    print(\"\\n----------------\")\n",
    "    \n",
    "    ## Update the weight matrices\n",
    "    W_1 -= learning_rate * grad[0]\n",
    "    W_2 -= learning_rate * grad[1]\n",
    "    \n",
    "    ### Compute the loss and accuracy\n",
    "    loss_vals.append(loss_fn(y,y_pred))\n",
    "\n",
    "    ## Print the loss and accuracy for every 200th iteration\n",
    "    \n",
    "plot_loss_accuracy(loss_vals, accuracies)"
   ]
  },
  {
   "cell_type": "code",
   "execution_count": null,
   "metadata": {
    "collapsed": true
   },
   "outputs": [],
   "source": []
  },
  {
   "cell_type": "code",
   "execution_count": null,
   "metadata": {
    "collapsed": true
   },
   "outputs": [],
   "source": []
  },
  {
   "cell_type": "code",
   "execution_count": null,
   "metadata": {
    "collapsed": true
   },
   "outputs": [],
   "source": []
  }
 ],
 "metadata": {
  "kernelspec": {
   "display_name": "Python 3",
   "language": "python",
   "name": "python3"
  },
  "language_info": {
   "codemirror_mode": {
    "name": "ipython",
    "version": 3
   },
   "file_extension": ".py",
   "mimetype": "text/x-python",
   "name": "python",
   "nbconvert_exporter": "python",
   "pygments_lexer": "ipython3",
   "version": "3.8.5"
  }
 },
 "nbformat": 4,
 "nbformat_minor": 1
}
