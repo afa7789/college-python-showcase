{
 "cells": [
  {
   "cell_type": "markdown",
   "metadata": {},
   "source": [
    "## Handwritten Image Detection with Keras using MNIST data\n",
    "\n",
    "In this exercise we will work with image data: specifically the famous MNIST data set.  This data set contains 70,000 images of handwritten digits in grayscale (0=black, 255 = white).  The images are 28 pixels by 28 pixels for a total of 784 pixels.  This is quite small by image standards.  Also, the images are well centered and isolated.  This makes this problem solvable with standard fully connected neural nets without too much pre-work."
   ]
  },
  {
   "cell_type": "markdown",
   "metadata": {},
   "source": [
    "In the first part of this notebook, we will walk you through loading in the data, building a network, and training it.  Then it will be your turn to try different models and see if you can improve performance"
   ]
  },
  {
   "cell_type": "code",
   "execution_count": 1,
   "metadata": {},
   "outputs": [],
   "source": [
    "# Preliminaries\n",
    "\n",
    "from __future__ import print_function\n",
    "\n",
    "import keras\n",
    "from keras.datasets import mnist\n",
    "from keras.models import Sequential\n",
    "from keras.layers import Dense, Dropout\n",
    "from keras.optimizers import RMSprop\n",
    "\n",
    "\n",
    "import numpy as np\n",
    "import matplotlib.pyplot as plt\n",
    "%matplotlib inline"
   ]
  },
  {
   "cell_type": "markdown",
   "metadata": {
    "collapsed": true
   },
   "source": [
    "Let's explore the dataset a little bit"
   ]
  },
  {
   "cell_type": "code",
   "execution_count": 2,
   "metadata": {},
   "outputs": [],
   "source": [
    "# Load the data, shuffled and split between train and test sets\n",
    "(x_train, y_train), (x_test, y_test) = mnist.load_data()"
   ]
  },
  {
   "cell_type": "code",
   "execution_count": 3,
   "metadata": {
    "scrolled": true
   },
   "outputs": [
    {
     "data": {
      "text/plain": [
       "(28, 28)"
      ]
     },
     "execution_count": 3,
     "metadata": {},
     "output_type": "execute_result"
    }
   ],
   "source": [
    "x_train[0].shape"
   ]
  },
  {
   "cell_type": "code",
   "execution_count": 4,
   "metadata": {
    "scrolled": true
   },
   "outputs": [
    {
     "data": {
      "text/plain": [
       "array([[  0,   0,   0,   0,   0,   0,   0,   0,   0,   0,   0,   0,   0,\n",
       "          0,   0,   0,   0,   0,   0,   0,   0,   0,   0,   0,   0,   0,\n",
       "          0,   0],\n",
       "       [  0,   0,   0,   0,   0,   0,   0,   0,   0,   0,   0,   0,   0,\n",
       "          0,   0,   0,   0,   0,   0,   0,   0,   0,   0,   0,   0,   0,\n",
       "          0,   0],\n",
       "       [  0,   0,   0,   0,   0,   0,   0,   0,   0,   0,   0,   0,   0,\n",
       "          0,   0,   0,   0,   0,   0,   0,   0,   0,   0,   0,   0,   0,\n",
       "          0,   0],\n",
       "       [  0,   0,   0,   0,   0,   0,   0,   0,   0,   0,   0,   0,   0,\n",
       "          0,   0,   0,   0,   0,   0,   0,   0,   0,   0,   0,   0,   0,\n",
       "          0,   0],\n",
       "       [  0,   0,   0,   0,   0,   0,   0,   0,   0,   0,   0,   0,   0,\n",
       "          0,   0,   0,   0,   0,   0,   0,   0,   0,   0,   0,   0,   0,\n",
       "          0,   0],\n",
       "       [  0,   0,   0,   0,   0,   0,   0,   0,   0,   0,   0,  87, 138,\n",
       "        170, 253, 201, 244, 212, 222, 138,  86,  22,   0,   0,   0,   0,\n",
       "          0,   0],\n",
       "       [  0,   0,   0,   0,   0,   0,   0,   0,   0,   0,  95, 253, 252,\n",
       "        252, 252, 252, 253, 252, 252, 252, 252, 245,  80,   0,   0,   0,\n",
       "          0,   0],\n",
       "       [  0,   0,   0,   0,   0,   0,   0,   0,   0,  68, 246, 205,  69,\n",
       "         69,  69,  69,  69,  69,  69,  69, 205, 253, 240,  50,   0,   0,\n",
       "          0,   0],\n",
       "       [  0,   0,   0,   0,   0,   0,   0,   0,   0, 187, 252, 218,  34,\n",
       "          0,   0,   0,   0,   0,   0,   0, 116, 253, 252,  69,   0,   0,\n",
       "          0,   0],\n",
       "       [  0,   0,   0,   0,   0,   0,   0,   0, 116, 248, 252, 253,  92,\n",
       "          0,   0,   0,   0,   0,   0,  95, 230, 253, 157,   6,   0,   0,\n",
       "          0,   0],\n",
       "       [  0,   0,   0,   0,   0,   0,   0,   0, 116, 249, 253, 189,  42,\n",
       "          0,   0,   0,   0,  36, 170, 253, 243, 158,   0,   0,   0,   0,\n",
       "          0,   0],\n",
       "       [  0,   0,   0,   0,   0,   0,   0,   0,   0, 133, 252, 245, 140,\n",
       "         34,   0,   0,  57, 219, 252, 235,  60,   0,   0,   0,   0,   0,\n",
       "          0,   0],\n",
       "       [  0,   0,   0,   0,   0,   0,   0,   0,   0,  25, 205, 253, 252,\n",
       "        234, 184, 184, 253, 240, 100,  44,   0,   0,   0,   0,   0,   0,\n",
       "          0,   0],\n",
       "       [  0,   0,   0,   0,   0,   0,   0,   0,   0,   0,  21, 161, 219,\n",
       "        252, 252, 252, 234,  37,   0,   0,   0,   0,   0,   0,   0,   0,\n",
       "          0,   0],\n",
       "       [  0,   0,   0,   0,   0,   0,   0,   0,   0,   0,   0,  11, 203,\n",
       "        252, 252, 252, 251, 135,   0,   0,   0,   0,   0,   0,   0,   0,\n",
       "          0,   0],\n",
       "       [  0,   0,   0,   0,   0,   0,   0,   0,   0,   9,  76, 255, 253,\n",
       "        205, 168, 220, 255, 253, 137,   5,   0,   0,   0,   0,   0,   0,\n",
       "          0,   0],\n",
       "       [  0,   0,   0,   0,   0,   0,   0,   0,   0, 114, 252, 249, 132,\n",
       "         25,   0,   0, 180, 252, 252,  45,   0,   0,   0,   0,   0,   0,\n",
       "          0,   0],\n",
       "       [  0,   0,   0,   0,   0,   0,   0,   0,  51, 220, 252, 199,   0,\n",
       "          0,   0,   0,  38, 186, 252, 154,   7,   0,   0,   0,   0,   0,\n",
       "          0,   0],\n",
       "       [  0,   0,   0,   0,   0,   0,   0,   0, 184, 252, 252,  21,   0,\n",
       "          0,   0,   0,   0,  67, 252, 252,  22,   0,   0,   0,   0,   0,\n",
       "          0,   0],\n",
       "       [  0,   0,   0,   0,   0,   0,   0,   0, 184, 252, 200,   0,   0,\n",
       "          0,   0,   0,   0,  47, 252, 252,  22,   0,   0,   0,   0,   0,\n",
       "          0,   0],\n",
       "       [  0,   0,   0,   0,   0,   0,   0,   0, 185, 253, 201,   0,   0,\n",
       "          0,   0,   0,   3, 118, 253, 245,  21,   0,   0,   0,   0,   0,\n",
       "          0,   0],\n",
       "       [  0,   0,   0,   0,   0,   0,   0,   0, 163, 252, 252,   0,   0,\n",
       "          0,   0,   0,  97, 252, 252,  87,   0,   0,   0,   0,   0,   0,\n",
       "          0,   0],\n",
       "       [  0,   0,   0,   0,   0,   0,   0,   0,  51, 240, 252, 123,  70,\n",
       "         70, 112, 184, 222, 252, 170,  13,   0,   0,   0,   0,   0,   0,\n",
       "          0,   0],\n",
       "       [  0,   0,   0,   0,   0,   0,   0,   0,   0, 165, 252, 253, 252,\n",
       "        252, 252, 252, 245, 139,  13,   0,   0,   0,   0,   0,   0,   0,\n",
       "          0,   0],\n",
       "       [  0,   0,   0,   0,   0,   0,   0,   0,   0,   9,  75, 253, 252,\n",
       "        221, 137, 137,  21,   0,   0,   0,   0,   0,   0,   0,   0,   0,\n",
       "          0,   0],\n",
       "       [  0,   0,   0,   0,   0,   0,   0,   0,   0,   0,   0,   0,   0,\n",
       "          0,   0,   0,   0,   0,   0,   0,   0,   0,   0,   0,   0,   0,\n",
       "          0,   0],\n",
       "       [  0,   0,   0,   0,   0,   0,   0,   0,   0,   0,   0,   0,   0,\n",
       "          0,   0,   0,   0,   0,   0,   0,   0,   0,   0,   0,   0,   0,\n",
       "          0,   0],\n",
       "       [  0,   0,   0,   0,   0,   0,   0,   0,   0,   0,   0,   0,   0,\n",
       "          0,   0,   0,   0,   0,   0,   0,   0,   0,   0,   0,   0,   0,\n",
       "          0,   0]], dtype=uint8)"
      ]
     },
     "execution_count": 4,
     "metadata": {},
     "output_type": "execute_result"
    }
   ],
   "source": [
    "#Let's just look at a particular example to see what is inside\n",
    "\n",
    "x_train[333]  ## Just a 28 x 28 numpy array of ints from 0 to 255"
   ]
  },
  {
   "cell_type": "code",
   "execution_count": 5,
   "metadata": {},
   "outputs": [
    {
     "data": {
      "text/plain": [
       "8"
      ]
     },
     "execution_count": 5,
     "metadata": {},
     "output_type": "execute_result"
    }
   ],
   "source": [
    "# What is the corresponding label in the training set?\n",
    "y_train[333]"
   ]
  },
  {
   "cell_type": "code",
   "execution_count": 6,
   "metadata": {},
   "outputs": [
    {
     "data": {
      "text/plain": [
       "<matplotlib.image.AxesImage at 0x7f9fdb4bf0a0>"
      ]
     },
     "execution_count": 6,
     "metadata": {},
     "output_type": "execute_result"
    },
    {
     "data": {
      "image/png": "[encoded data removed]",
      "text/plain": [
       "<Figure size 432x288 with 1 Axes>"
      ]
     },
     "metadata": {
      "needs_background": "light"
     },
     "output_type": "display_data"
    }
   ],
   "source": [
    "# Let's see what this image actually looks like\n",
    "\n",
    "plt.imshow(x_train[333], cmap='Greys_r')"
   ]
  },
  {
   "cell_type": "code",
   "execution_count": 7,
   "metadata": {},
   "outputs": [
    {
     "name": "stdout",
     "output_type": "stream",
     "text": [
      "(60000, 28, 28) train samples\n",
      "(10000, 28, 28) test samples\n"
     ]
    }
   ],
   "source": [
    "# this is the shape of the np.array x_train\n",
    "# it is 3 dimensional.\n",
    "print(x_train.shape, 'train samples')\n",
    "print(x_test.shape, 'test samples')"
   ]
  },
  {
   "cell_type": "code",
   "execution_count": 8,
   "metadata": {},
   "outputs": [],
   "source": [
    "## For our purposes, these images are just a vector of 784 inputs, so let's convert\n",
    "x_train = x_train.reshape(len(x_train), 28*28)\n",
    "x_test = x_test.reshape(len(x_test), 28*28)\n",
    "\n",
    "## Keras works with floats, so we must cast the numbers to floats\n",
    "x_train = x_train.astype('float32')\n",
    "x_test = x_test.astype('float32')\n",
    "\n",
    "## Normalize the inputs so they are between 0 and 1\n",
    "x_train /= 255\n",
    "x_test /= 255\n"
   ]
  },
  {
   "cell_type": "code",
   "execution_count": 9,
   "metadata": {},
   "outputs": [
    {
     "data": {
      "text/plain": [
       "array([0., 0., 0., 0., 0., 0., 0., 0., 1., 0.], dtype=float32)"
      ]
     },
     "execution_count": 9,
     "metadata": {},
     "output_type": "execute_result"
    }
   ],
   "source": [
    "# convert class vectors to binary class matrices\n",
    "num_classes = 10\n",
    "y_train = keras.utils.to_categorical(y_train, num_classes)\n",
    "y_test = keras.utils.to_categorical(y_test, num_classes)\n",
    "\n",
    "y_train[333]  # now the digit k is represented by a 1 in the kth entry (0-indexed) of the length 10 vector"
   ]
  },
  {
   "cell_type": "code",
   "execution_count": 10,
   "metadata": {},
   "outputs": [],
   "source": [
    "# We will build a model with two hidden layers of size 512\n",
    "# Fully connected inputs at each layer\n",
    "# We will use dropout of .2 to help regularize\n",
    "model_1 = Sequential()\n",
    "model_1.add(Dense(64, activation='relu', input_shape=(784,)))\n",
    "model_1.add(Dropout(0.2))\n",
    "model_1.add(Dense(64, activation='relu'))\n",
    "model_1.add(Dropout(0.2))\n",
    "model_1.add(Dense(10, activation='softmax'))"
   ]
  },
  {
   "cell_type": "code",
   "execution_count": 11,
   "metadata": {},
   "outputs": [
    {
     "name": "stdout",
     "output_type": "stream",
     "text": [
      "Model: \"sequential\"\n",
      "_________________________________________________________________\n",
      "Layer (type)                 Output Shape              Param #   \n",
      "=================================================================\n",
      "dense (Dense)                (None, 64)                50240     \n",
      "_________________________________________________________________\n",
      "dropout (Dropout)            (None, 64)                0         \n",
      "_________________________________________________________________\n",
      "dense_1 (Dense)              (None, 64)                4160      \n",
      "_________________________________________________________________\n",
      "dropout_1 (Dropout)          (None, 64)                0         \n",
      "_________________________________________________________________\n",
      "dense_2 (Dense)              (None, 10)                650       \n",
      "=================================================================\n",
      "Total params: 55,050\n",
      "Trainable params: 55,050\n",
      "Non-trainable params: 0\n",
      "_________________________________________________________________\n"
     ]
    }
   ],
   "source": [
    "## Note that this model has a LOT of parameters\n",
    "model_1.summary()"
   ]
  },
  {
   "cell_type": "code",
   "execution_count": 12,
   "metadata": {},
   "outputs": [],
   "source": [
    "# Let's compile the model\n",
    "learning_rate = .001\n",
    "model_1.compile(loss='categorical_crossentropy',\n",
    "              optimizer=RMSprop(lr=learning_rate),\n",
    "              metrics=['accuracy'])\n",
    "# note that `categorical cross entropy` is the natural generalization \n",
    "# of the loss function we had in binary classification case, to multi class case"
   ]
  },
  {
   "cell_type": "code",
   "execution_count": 13,
   "metadata": {},
   "outputs": [
    {
     "name": "stdout",
     "output_type": "stream",
     "text": [
      "Epoch 1/30\n",
      "469/469 [==============================] - 1s 3ms/step - loss: 0.5018 - accuracy: 0.8488 - val_loss: 0.2037 - val_accuracy: 0.9391\n",
      "Epoch 2/30\n",
      "469/469 [==============================] - 1s 3ms/step - loss: 0.2441 - accuracy: 0.9285 - val_loss: 0.1539 - val_accuracy: 0.9526\n",
      "Epoch 3/30\n",
      "469/469 [==============================] - 1s 2ms/step - loss: 0.1960 - accuracy: 0.9426 - val_loss: 0.1283 - val_accuracy: 0.9619\n",
      "Epoch 4/30\n",
      "469/469 [==============================] - 1s 2ms/step - loss: 0.1673 - accuracy: 0.9510 - val_loss: 0.1198 - val_accuracy: 0.9636\n",
      "Epoch 5/30\n",
      "469/469 [==============================] - 1s 2ms/step - loss: 0.1483 - accuracy: 0.9560 - val_loss: 0.1063 - val_accuracy: 0.9698\n",
      "Epoch 6/30\n",
      "469/469 [==============================] - 1s 2ms/step - loss: 0.1375 - accuracy: 0.9598 - val_loss: 0.1008 - val_accuracy: 0.9698\n",
      "Epoch 7/30\n",
      "469/469 [==============================] - 1s 2ms/step - loss: 0.1329 - accuracy: 0.9604 - val_loss: 0.1054 - val_accuracy: 0.9706\n",
      "Epoch 8/30\n",
      "469/469 [==============================] - 1s 2ms/step - loss: 0.1215 - accuracy: 0.9643 - val_loss: 0.0995 - val_accuracy: 0.9729\n",
      "Epoch 9/30\n",
      "469/469 [==============================] - 1s 2ms/step - loss: 0.1169 - accuracy: 0.9656 - val_loss: 0.0961 - val_accuracy: 0.9731\n",
      "Epoch 10/30\n",
      "469/469 [==============================] - 1s 2ms/step - loss: 0.1105 - accuracy: 0.9672 - val_loss: 0.0995 - val_accuracy: 0.9732\n",
      "Epoch 11/30\n",
      "469/469 [==============================] - 1s 2ms/step - loss: 0.1075 - accuracy: 0.9685 - val_loss: 0.0987 - val_accuracy: 0.9733\n",
      "Epoch 12/30\n",
      "469/469 [==============================] - 1s 2ms/step - loss: 0.1043 - accuracy: 0.9695 - val_loss: 0.1003 - val_accuracy: 0.9732\n",
      "Epoch 13/30\n",
      "469/469 [==============================] - 1s 2ms/step - loss: 0.1012 - accuracy: 0.9701 - val_loss: 0.0935 - val_accuracy: 0.9741\n",
      "Epoch 14/30\n",
      "469/469 [==============================] - 1s 2ms/step - loss: 0.0963 - accuracy: 0.9699 - val_loss: 0.0976 - val_accuracy: 0.9747\n",
      "Epoch 15/30\n",
      "469/469 [==============================] - 1s 2ms/step - loss: 0.0969 - accuracy: 0.9711 - val_loss: 0.0960 - val_accuracy: 0.9754\n",
      "Epoch 16/30\n",
      "469/469 [==============================] - 1s 2ms/step - loss: 0.0948 - accuracy: 0.9715 - val_loss: 0.0988 - val_accuracy: 0.9725\n",
      "Epoch 17/30\n",
      "469/469 [==============================] - 1s 3ms/step - loss: 0.0953 - accuracy: 0.9723 - val_loss: 0.1028 - val_accuracy: 0.9740\n",
      "Epoch 18/30\n",
      "469/469 [==============================] - 2s 4ms/step - loss: 0.0923 - accuracy: 0.9723 - val_loss: 0.1068 - val_accuracy: 0.9738\n",
      "Epoch 19/30\n",
      "469/469 [==============================] - 1s 2ms/step - loss: 0.0915 - accuracy: 0.9727 - val_loss: 0.1039 - val_accuracy: 0.9735\n",
      "Epoch 20/30\n",
      "469/469 [==============================] - 1s 3ms/step - loss: 0.0891 - accuracy: 0.9734 - val_loss: 0.1088 - val_accuracy: 0.9735\n",
      "Epoch 21/30\n",
      "469/469 [==============================] - 1s 3ms/step - loss: 0.0836 - accuracy: 0.9751 - val_loss: 0.1039 - val_accuracy: 0.9749\n",
      "Epoch 22/30\n",
      "469/469 [==============================] - 1s 2ms/step - loss: 0.0866 - accuracy: 0.9744 - val_loss: 0.1037 - val_accuracy: 0.9739\n",
      "Epoch 23/30\n",
      "469/469 [==============================] - 1s 3ms/step - loss: 0.0843 - accuracy: 0.9761 - val_loss: 0.1020 - val_accuracy: 0.9768\n",
      "Epoch 24/30\n",
      "469/469 [==============================] - 1s 3ms/step - loss: 0.0858 - accuracy: 0.9752 - val_loss: 0.1075 - val_accuracy: 0.9755\n",
      "Epoch 25/30\n",
      "469/469 [==============================] - 1s 2ms/step - loss: 0.0828 - accuracy: 0.9761 - val_loss: 0.1075 - val_accuracy: 0.9757\n",
      "Epoch 26/30\n",
      "469/469 [==============================] - 1s 2ms/step - loss: 0.0833 - accuracy: 0.9758 - val_loss: 0.1020 - val_accuracy: 0.9751\n",
      "Epoch 27/30\n",
      "469/469 [==============================] - 1s 2ms/step - loss: 0.0827 - accuracy: 0.9759 - val_loss: 0.1144 - val_accuracy: 0.9745\n",
      "Epoch 28/30\n",
      "469/469 [==============================] - 1s 2ms/step - loss: 0.0794 - accuracy: 0.9775 - val_loss: 0.1139 - val_accuracy: 0.9745\n",
      "Epoch 29/30\n",
      "469/469 [==============================] - 1s 2ms/step - loss: 0.0792 - accuracy: 0.9765 - val_loss: 0.1164 - val_accuracy: 0.9720\n",
      "Epoch 30/30\n",
      "469/469 [==============================] - 1s 2ms/step - loss: 0.0802 - accuracy: 0.9762 - val_loss: 0.1066 - val_accuracy: 0.9739\n"
     ]
    }
   ],
   "source": [
    "# And now let's fit.\n",
    "\n",
    "batch_size = 128  # mini-batch with 128 examples\n",
    "epochs = 30\n",
    "history = model_1.fit(\n",
    "    x_train, y_train,\n",
    "    batch_size=batch_size,\n",
    "    epochs=epochs,\n",
    "    verbose=1,\n",
    "    validation_data=(x_test, y_test))"
   ]
  },
  {
   "cell_type": "code",
   "execution_count": 14,
   "metadata": {},
   "outputs": [
    {
     "name": "stdout",
     "output_type": "stream",
     "text": [
      "Test loss: 0.10663378983736038\n",
      "Test accuracy: 0.9739000201225281\n"
     ]
    }
   ],
   "source": [
    "## We will use Keras evaluate function to evaluate performance on the test set\n",
    "\n",
    "score = model_1.evaluate(x_test, y_test, verbose=0)\n",
    "print('Test loss:', score[0])\n",
    "print('Test accuracy:', score[1])"
   ]
  },
  {
   "cell_type": "code",
   "execution_count": 17,
   "metadata": {},
   "outputs": [
    {
     "data": {
      "image/png": "[encoded data removed]",
      "text/plain": [
       "<Figure size 864x432 with 2 Axes>"
      ]
     },
     "metadata": {
      "needs_background": "light"
     },
     "output_type": "display_data"
    }
   ],
   "source": [
    "def plot_loss_accuracy(history):\n",
    "    fig = plt.figure(figsize=(12, 6))\n",
    "    ax = fig.add_subplot(1, 2, 1)\n",
    "    ax.plot(history.history[\"loss\"],'r-x', label=\"Train Loss\")\n",
    "    ax.plot(history.history[\"val_loss\"],'b-x', label=\"Validation Loss\")\n",
    "    ax.legend()\n",
    "    ax.set_title('cross_entropy loss')\n",
    "    ax.grid(True)\n",
    "\n",
    "\n",
    "    ax = fig.add_subplot(1, 2, 2)\n",
    "    ax.plot(history.history[\"accuracy\"],'r-x', label=\"Train Accuracy\")\n",
    "    ax.plot(history.history[\"val_accuracy\"],'b-x', label=\"Validation Accuracy\")\n",
    "    ax.legend()\n",
    "    ax.set_title('accuracy')\n",
    "    ax.grid(True)\n",
    "    \n",
    "\n",
    "plot_loss_accuracy(history)"
   ]
  },
  {
   "cell_type": "markdown",
   "metadata": {},
   "source": [
    "This is reasonably good performance, but we can do even better!  Next you will build an even bigger network and compare the performance."
   ]
  },
  {
   "cell_type": "markdown",
   "metadata": {},
   "source": [
    "## Exercise\n",
    "### Your Turn: Build your own model\n",
    "Use the Keras \"Sequential\" functionality to build `model_2` with the following specifications:\n",
    "\n",
    "1. Two hidden layers.\n",
    "2. First hidden layer of size 400 and second of size 300\n",
    "3. Dropout of .4 at each layer\n",
    "4. How many parameters does your model have?  How does it compare with the previous model?\n",
    "4. Train this model for 20 epochs with RMSProp at a learning rate of .001 and a batch size of 128\n",
    "\n",
    "\n"
   ]
  },
  {
   "cell_type": "code",
   "execution_count": 19,
   "metadata": {},
   "outputs": [
    {
     "name": "stdout",
     "output_type": "stream",
     "text": [
      "Model: \"sequential_2\"\n",
      "_________________________________________________________________\n",
      "Layer (type)                 Output Shape              Param #   \n",
      "=================================================================\n",
      "dense_6 (Dense)              (None, 400)               314000    \n",
      "_________________________________________________________________\n",
      "dropout_4 (Dropout)          (None, 400)               0         \n",
      "_________________________________________________________________\n",
      "dense_7 (Dense)              (None, 300)               120300    \n",
      "_________________________________________________________________\n",
      "dropout_5 (Dropout)          (None, 300)               0         \n",
      "_________________________________________________________________\n",
      "dense_8 (Dense)              (None, 10)                3010      \n",
      "=================================================================\n",
      "Total params: 437,310\n",
      "Trainable params: 437,310\n",
      "Non-trainable params: 0\n",
      "_________________________________________________________________\n"
     ]
    }
   ],
   "source": [
    "### Build your model here\n",
    "model_2 = Sequential()\n",
    "model_2.add(Dense(400, activation='relu', input_shape=(784,)))\n",
    "model_2.add(Dropout(0.4))\n",
    "model_2.add(Dense(300, activation='relu'))\n",
    "model_2.add(Dropout(0.4))\n",
    "model_2.add(Dense(10, activation='softmax'))\n",
    "model_2.summary()"
   ]
  },
  {
   "cell_type": "code",
   "execution_count": 21,
   "metadata": {},
   "outputs": [
    {
     "name": "stdout",
     "output_type": "stream",
     "text": [
      "Epoch 1/20\n",
      "469/469 [==============================] - 4s 8ms/step - loss: 0.3244 - accuracy: 0.9000 - val_loss: 0.1286 - val_accuracy: 0.9623\n",
      "Epoch 2/20\n",
      "469/469 [==============================] - 3s 7ms/step - loss: 0.1521 - accuracy: 0.9548 - val_loss: 0.0955 - val_accuracy: 0.9708\n",
      "Epoch 3/20\n",
      "469/469 [==============================] - 3s 7ms/step - loss: 0.1182 - accuracy: 0.9650 - val_loss: 0.0872 - val_accuracy: 0.9742\n",
      "Epoch 4/20\n",
      "469/469 [==============================] - 3s 7ms/step - loss: 0.1021 - accuracy: 0.9712 - val_loss: 0.0770 - val_accuracy: 0.9777\n",
      "Epoch 5/20\n",
      "469/469 [==============================] - 3s 7ms/step - loss: 0.0913 - accuracy: 0.9741 - val_loss: 0.0844 - val_accuracy: 0.9774\n",
      "Epoch 6/20\n",
      "469/469 [==============================] - 4s 8ms/step - loss: 0.0829 - accuracy: 0.9764 - val_loss: 0.0877 - val_accuracy: 0.9777\n",
      "Epoch 7/20\n",
      "469/469 [==============================] - 3s 7ms/step - loss: 0.0776 - accuracy: 0.9778 - val_loss: 0.0794 - val_accuracy: 0.9815\n",
      "Epoch 8/20\n",
      "469/469 [==============================] - 4s 8ms/step - loss: 0.0730 - accuracy: 0.9792 - val_loss: 0.0731 - val_accuracy: 0.9816\n",
      "Epoch 9/20\n",
      "469/469 [==============================] - 4s 9ms/step - loss: 0.0703 - accuracy: 0.9806 - val_loss: 0.0832 - val_accuracy: 0.9805\n",
      "Epoch 10/20\n",
      "469/469 [==============================] - 3s 6ms/step - loss: 0.0664 - accuracy: 0.9819 - val_loss: 0.0877 - val_accuracy: 0.9807\n",
      "Epoch 11/20\n",
      "469/469 [==============================] - 3s 6ms/step - loss: 0.0634 - accuracy: 0.9826 - val_loss: 0.0868 - val_accuracy: 0.9810\n",
      "Epoch 12/20\n",
      "469/469 [==============================] - 3s 6ms/step - loss: 0.0611 - accuracy: 0.9839 - val_loss: 0.0898 - val_accuracy: 0.9818\n",
      "Epoch 13/20\n",
      "469/469 [==============================] - 3s 5ms/step - loss: 0.0602 - accuracy: 0.9840 - val_loss: 0.0866 - val_accuracy: 0.9821\n",
      "Epoch 14/20\n",
      "469/469 [==============================] - 4s 8ms/step - loss: 0.0564 - accuracy: 0.9850 - val_loss: 0.0904 - val_accuracy: 0.9833\n",
      "Epoch 15/20\n",
      "469/469 [==============================] - 3s 7ms/step - loss: 0.0590 - accuracy: 0.9845 - val_loss: 0.0985 - val_accuracy: 0.9821\n",
      "Epoch 16/20\n",
      "469/469 [==============================] - 3s 7ms/step - loss: 0.0555 - accuracy: 0.9852 - val_loss: 0.0983 - val_accuracy: 0.9813\n",
      "Epoch 17/20\n",
      "469/469 [==============================] - 3s 7ms/step - loss: 0.0559 - accuracy: 0.9853 - val_loss: 0.0969 - val_accuracy: 0.9820\n",
      "Epoch 18/20\n",
      "469/469 [==============================] - 3s 7ms/step - loss: 0.0548 - accuracy: 0.9856 - val_loss: 0.0954 - val_accuracy: 0.9824\n",
      "Epoch 19/20\n",
      "469/469 [==============================] - 3s 7ms/step - loss: 0.0502 - accuracy: 0.9872 - val_loss: 0.1045 - val_accuracy: 0.9809\n",
      "Epoch 20/20\n",
      "469/469 [==============================] - 4s 8ms/step - loss: 0.0533 - accuracy: 0.9868 - val_loss: 0.1030 - val_accuracy: 0.9825\n"
     ]
    }
   ],
   "source": [
    "# Let's compile the model\n",
    "learning_rate = .001\n",
    "model_2.compile(loss='categorical_crossentropy',\n",
    "              optimizer=RMSprop(lr=learning_rate),\n",
    "              metrics=['accuracy'])\n",
    "\n",
    "batch_size = 128\n",
    "epochs = 20\n",
    "history = model_2.fit(\n",
    "    x_train, y_train,\n",
    "    batch_size=batch_size,\n",
    "    epochs=epochs,\n",
    "    verbose=1,\n",
    "    validation_data=(x_test, y_test))"
   ]
  },
  {
   "cell_type": "code",
   "execution_count": 22,
   "metadata": {},
   "outputs": [
    {
     "name": "stdout",
     "output_type": "stream",
     "text": [
      "Test loss: 0.10301139950752258\n",
      "Test accuracy: 0.9825000166893005\n"
     ]
    },
    {
     "data": {
      "image/png": "[encoded data removed]",
      "text/plain": [
       "<Figure size 864x432 with 2 Axes>"
      ]
     },
     "metadata": {
      "needs_background": "light"
     },
     "output_type": "display_data"
    }
   ],
   "source": [
    "score = model_2.evaluate(x_test, y_test, verbose=0)\n",
    "print('Test loss:', score[0])\n",
    "print('Test accuracy:', score[1])\n",
    "\n",
    "plot_loss_accuracy(history)"
   ]
  },
  {
   "cell_type": "markdown",
   "metadata": {
    "collapsed": true
   },
   "source": [
    "## Think about the following questions\n",
    "\n",
    "1) How do model_1 and model_2 compare? Which do you prefer? If you were going to put one into production, which would you choose and why?\n",
    "\n",
    "2) Compare the trajectories of the loss function on the training set and test set for each model? How do they compare? What does that suggest about each model? Do the same for accuracy? Which do you think is more meaningful, the loss or the accuracy?\n",
    "\n",
    "3) Suggest an improvement to one of the models (changing structure, learning rate, number of epochs, etc.) that you think will result in a better model. Try it out below? Did it improve the performance?"
   ]
  },
  {
   "cell_type": "markdown",
   "metadata": {},
   "source": [
    "## Comparação\n",
    "\n",
    "O segundo modelo possui uma quantidade bem maior de parâmetros, e, por conta disso, demora um mais para treinar. Entretanto, ele resultou em uma precisão um pouco melhor. Por conta disso, eu escolheria o segundo modelo. O gráfico de progressão dos dois modelos foi bem semelhante.\n",
    "\n",
    "Como, visivelmente, a precisão não parece ter atingido um máximo no gráfico, a sugestão seria aumentar o número de épocas para obter um melhor resultado, porém, não houve uma melhora muito significativa.\n"
   ]
  },
  {
   "cell_type": "code",
   "execution_count": 24,
   "metadata": {},
   "outputs": [
    {
     "name": "stdout",
     "output_type": "stream",
     "text": [
      "Epoch 1/30\n",
      "469/469 [==============================] - 4s 8ms/step - loss: 0.3251 - accuracy: 0.9014 - val_loss: 0.1228 - val_accuracy: 0.9616\n",
      "Epoch 2/30\n",
      "469/469 [==============================] - 4s 8ms/step - loss: 0.1518 - accuracy: 0.9544 - val_loss: 0.1028 - val_accuracy: 0.9683\n",
      "Epoch 3/30\n",
      "469/469 [==============================] - 3s 7ms/step - loss: 0.1200 - accuracy: 0.9645 - val_loss: 0.0850 - val_accuracy: 0.9756\n",
      "Epoch 4/30\n",
      "469/469 [==============================] - 4s 8ms/step - loss: 0.1005 - accuracy: 0.9705 - val_loss: 0.0859 - val_accuracy: 0.9763\n",
      "Epoch 5/30\n",
      "469/469 [==============================] - 3s 7ms/step - loss: 0.0937 - accuracy: 0.9733 - val_loss: 0.0737 - val_accuracy: 0.9804\n",
      "Epoch 6/30\n",
      "469/469 [==============================] - 4s 8ms/step - loss: 0.0849 - accuracy: 0.9753 - val_loss: 0.0802 - val_accuracy: 0.9775\n",
      "Epoch 7/30\n",
      "469/469 [==============================] - 4s 8ms/step - loss: 0.0763 - accuracy: 0.9786 - val_loss: 0.0824 - val_accuracy: 0.9788\n",
      "Epoch 8/30\n",
      "469/469 [==============================] - 3s 7ms/step - loss: 0.0714 - accuracy: 0.9794 - val_loss: 0.0786 - val_accuracy: 0.9801\n",
      "Epoch 9/30\n",
      "469/469 [==============================] - 4s 8ms/step - loss: 0.0692 - accuracy: 0.9803 - val_loss: 0.0774 - val_accuracy: 0.9806\n",
      "Epoch 10/30\n",
      "469/469 [==============================] - 4s 8ms/step - loss: 0.0691 - accuracy: 0.9814 - val_loss: 0.0795 - val_accuracy: 0.9811\n",
      "Epoch 11/30\n",
      "469/469 [==============================] - 4s 8ms/step - loss: 0.0637 - accuracy: 0.9828 - val_loss: 0.0845 - val_accuracy: 0.9814\n",
      "Epoch 12/30\n",
      "469/469 [==============================] - 3s 7ms/step - loss: 0.0628 - accuracy: 0.9826 - val_loss: 0.0880 - val_accuracy: 0.9817\n",
      "Epoch 13/30\n",
      "469/469 [==============================] - 3s 7ms/step - loss: 0.0571 - accuracy: 0.9837 - val_loss: 0.0930 - val_accuracy: 0.9815\n",
      "Epoch 14/30\n",
      "469/469 [==============================] - 4s 8ms/step - loss: 0.0554 - accuracy: 0.9848 - val_loss: 0.0883 - val_accuracy: 0.9829\n",
      "Epoch 15/30\n",
      "469/469 [==============================] - 3s 7ms/step - loss: 0.0578 - accuracy: 0.9851 - val_loss: 0.0833 - val_accuracy: 0.9847\n",
      "Epoch 16/30\n",
      "469/469 [==============================] - 4s 8ms/step - loss: 0.0557 - accuracy: 0.9857 - val_loss: 0.0927 - val_accuracy: 0.9829\n",
      "Epoch 17/30\n",
      "469/469 [==============================] - 4s 9ms/step - loss: 0.0522 - accuracy: 0.9859 - val_loss: 0.0933 - val_accuracy: 0.9815\n",
      "Epoch 18/30\n",
      "469/469 [==============================] - 4s 9ms/step - loss: 0.0536 - accuracy: 0.9865 - val_loss: 0.0889 - val_accuracy: 0.9834\n",
      "Epoch 19/30\n",
      "469/469 [==============================] - 3s 7ms/step - loss: 0.0496 - accuracy: 0.9866 - val_loss: 0.1034 - val_accuracy: 0.9826\n",
      "Epoch 20/30\n",
      "469/469 [==============================] - 3s 7ms/step - loss: 0.0510 - accuracy: 0.9876 - val_loss: 0.1084 - val_accuracy: 0.9811\n",
      "Epoch 21/30\n",
      "469/469 [==============================] - 4s 8ms/step - loss: 0.0496 - accuracy: 0.9874 - val_loss: 0.0978 - val_accuracy: 0.9844\n",
      "Epoch 22/30\n",
      "469/469 [==============================] - 3s 7ms/step - loss: 0.0490 - accuracy: 0.9874 - val_loss: 0.1032 - val_accuracy: 0.9825\n",
      "Epoch 23/30\n",
      "469/469 [==============================] - 4s 9ms/step - loss: 0.0463 - accuracy: 0.9880 - val_loss: 0.1117 - val_accuracy: 0.9822\n",
      "Epoch 24/30\n",
      "469/469 [==============================] - 5s 10ms/step - loss: 0.0496 - accuracy: 0.9879 - val_loss: 0.1103 - val_accuracy: 0.9838\n",
      "Epoch 25/30\n",
      "469/469 [==============================] - 3s 7ms/step - loss: 0.0461 - accuracy: 0.9880 - val_loss: 0.1084 - val_accuracy: 0.9825\n",
      "Epoch 26/30\n",
      "469/469 [==============================] - 3s 7ms/step - loss: 0.0457 - accuracy: 0.9887 - val_loss: 0.1125 - val_accuracy: 0.9844\n",
      "Epoch 27/30\n",
      "469/469 [==============================] - 3s 7ms/step - loss: 0.0467 - accuracy: 0.9884 - val_loss: 0.1102 - val_accuracy: 0.9833\n",
      "Epoch 28/30\n",
      "469/469 [==============================] - 3s 7ms/step - loss: 0.0447 - accuracy: 0.9887 - val_loss: 0.1267 - val_accuracy: 0.9820\n",
      "Epoch 29/30\n",
      "469/469 [==============================] - 3s 7ms/step - loss: 0.0443 - accuracy: 0.9892 - val_loss: 0.1231 - val_accuracy: 0.9828\n",
      "Epoch 30/30\n",
      "469/469 [==============================] - 4s 8ms/step - loss: 0.0457 - accuracy: 0.9893 - val_loss: 0.1341 - val_accuracy: 0.9825\n",
      "\n",
      "\n",
      "Test loss: 0.13414908945560455\n",
      "Test accuracy: 0.9825000166893005\n"
     ]
    },
    {
     "data": {
      "image/png": "[encoded data removed]",
      "text/plain": [
       "<Figure size 864x432 with 2 Axes>"
      ]
     },
     "metadata": {
      "needs_background": "light"
     },
     "output_type": "display_data"
    }
   ],
   "source": [
    "model_3 = Sequential()\n",
    "model_3.add(Dense(400, activation='relu', input_shape=(784,)))\n",
    "model_3.add(Dropout(0.4))\n",
    "model_3.add(Dense(300, activation='relu'))\n",
    "model_3.add(Dropout(0.4))\n",
    "model_3.add(Dense(10, activation='softmax'))\n",
    "\n",
    "learning_rate = .001\n",
    "model_3.compile(loss='categorical_crossentropy',\n",
    "              optimizer=RMSprop(lr=learning_rate),\n",
    "              metrics=['accuracy'])\n",
    "\n",
    "batch_size = 128\n",
    "epochs = 30\n",
    "history = model_3.fit(\n",
    "    x_train, y_train,\n",
    "    batch_size=batch_size,\n",
    "    epochs=epochs,\n",
    "    verbose=1,\n",
    "    validation_data=(x_test, y_test))\n",
    "\n",
    "score = model_3.evaluate(x_test, y_test, verbose=0)\n",
    "print('\\n\\nTest loss:', score[0])\n",
    "print('Test accuracy:', score[1])\n",
    "\n",
    "plot_loss_accuracy(history)"
   ]
  },
  {
   "cell_type": "code",
   "execution_count": null,
   "metadata": {},
   "outputs": [],
   "source": []
  }
 ],
 "metadata": {
  "kernelspec": {
   "display_name": "Python 3",
   "language": "python",
   "name": "python3"
  },
  "language_info": {
   "codemirror_mode": {
    "name": "ipython",
    "version": 3
   },
   "file_extension": ".py",
   "mimetype": "text/x-python",
   "name": "python",
   "nbconvert_exporter": "python",
   "pygments_lexer": "ipython3",
   "version": "3.8.5"
  }
 },
 "nbformat": 4,
 "nbformat_minor": 1
}
